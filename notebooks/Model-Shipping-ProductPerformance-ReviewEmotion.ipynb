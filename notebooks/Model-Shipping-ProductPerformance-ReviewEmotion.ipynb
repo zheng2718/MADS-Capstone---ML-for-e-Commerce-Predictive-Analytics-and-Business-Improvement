{
  "cells": [
    {
      "cell_type": "code",
      "execution_count": 2,
      "metadata": {
        "colab": {
          "base_uri": "https://localhost:8080/"
        },
        "id": "7ZSjrQyS7M-s",
        "outputId": "b4e1a410-e0dc-4d87-8483-6e9e3e812c42"
      },
      "outputs": [
        {
          "name": "stdout",
          "output_type": "stream",
          "text": [
            "alt.renderers: RendererRegistry.enable('colab')\n",
            "optuna.__version__: 2.10.1\n"
          ]
        }
      ],
      "source": [
        "import pandas as pd\n",
        "import numpy as np\n",
        "import os\n",
        "from datetime import datetime\n",
        "import altair as alt\n",
        "import matplotlib.pyplot as plt\n",
        "import seaborn as sns\n",
        "from sklearn.model_selection import train_test_split\n",
        "from sklearn.linear_model import LinearRegression\n",
        "from sklearn.ensemble import RandomForestRegressor\n",
        "from xgboost import XGBRegressor\n",
        "from sklearn import metrics\n",
        "from sklearn.linear_model import LassoCV\n",
        "from sklearn.preprocessing import MinMaxScaler\n",
        "from sklearn.pipeline import Pipeline, make_pipeline\n",
        "import optuna\n",
        "from optuna.visualization import plot_optimization_history, plot_parallel_coordinate\n",
        "import pickle\n",
        "\n",
        "pd.set_option('display.max_columns', None)\n",
        "print('alt.renderers:', alt.renderers.enable('colab'))\n",
        "#print('optuna.__version__:', optuna.__version__)\n",
        "RANDOM_STATE=123"
      ]
    },
    {
      "cell_type": "code",
      "execution_count": 18,
      "metadata": {
        "colab": {
          "base_uri": "https://localhost:8080/"
        },
        "id": "ZGGlPu0p7NDp",
        "outputId": "a3613363-7ddb-4dd6-ccf3-dabd8f6bec1a"
      },
      "outputs": [],
      "source": [
        "# Google Colab Mount Drives\n",
        "# Note: Need to 'Add as Shortcut' in personal drive if accesing via 'Shared with me' drive (https://stackoverflow.com/questions/54351852/accessing-shared-with-me-with-colab)\n",
        "#from google.colab import drive\n",
        "#drive.mount('/content/drive')\n",
        "\n",
        "# List directories on drive\n",
        "#!ls \"/content/drive/My Drive/Capstone\""
      ]
    },
    {
      "cell_type": "markdown",
      "metadata": {
        "id": "WZ8XFyIe6GHN"
      },
      "source": [
        "# 1) Merge & Process Shipping.xlsx to ReviewEmotion.xlsx"
      ]
    },
    {
      "cell_type": "markdown",
      "metadata": {
        "id": "oYNhlgODyRaF"
      },
      "source": [
        "## Load & Process ReviewEmotion.xlsx"
      ]
    },
    {
      "cell_type": "code",
      "execution_count": 7,
      "metadata": {
        "colab": {
          "base_uri": "https://localhost:8080/",
          "height": 243
        },
        "id": "VGDUeiOJ7evD",
        "outputId": "c8cc1a40-fb96-41d9-aa44-b0f37355da9b"
      },
      "outputs": [
        {
          "name": "stdout",
          "output_type": "stream",
          "text": [
            "C:\\Users\\User\\Python-Projects\\SIADS 697 Capstone Git Repo\\realtime_dreamer\n"
          ]
        },
        {
          "data": {
            "text/html": [
              "<div>\n",
              "<style scoped>\n",
              "    .dataframe tbody tr th:only-of-type {\n",
              "        vertical-align: middle;\n",
              "    }\n",
              "\n",
              "    .dataframe tbody tr th {\n",
              "        vertical-align: top;\n",
              "    }\n",
              "\n",
              "    .dataframe thead th {\n",
              "        text-align: right;\n",
              "    }\n",
              "</style>\n",
              "<table border=\"1\" class=\"dataframe\">\n",
              "  <thead>\n",
              "    <tr style=\"text-align: right;\">\n",
              "      <th></th>\n",
              "      <th>index</th>\n",
              "      <th>STT</th>\n",
              "      <th>Order ID</th>\n",
              "      <th>Review Content</th>\n",
              "      <th>Product</th>\n",
              "      <th>Rating</th>\n",
              "      <th>CMMF code</th>\n",
              "      <th>CAT</th>\n",
              "      <th>SUB-CAT</th>\n",
              "      <th>MODEL/DESC</th>\n",
              "      <th>Item Desc</th>\n",
              "      <th>Month report</th>\n",
              "      <th>YEAR-REPORT</th>\n",
              "      <th>TÃ¬nh tráº¡ng</th>\n",
              "      <th>Type 1 Level 1</th>\n",
              "      <th>good/bad</th>\n",
              "      <th>Type 1 Level 2</th>\n",
              "      <th>Type 2 Level 1</th>\n",
              "      <th>Type 2 Level 2</th>\n",
              "      <th>emotion</th>\n",
              "      <th>emotion.1</th>\n",
              "    </tr>\n",
              "  </thead>\n",
              "  <tbody>\n",
              "    <tr>\n",
              "      <th>0</th>\n",
              "      <td>0</td>\n",
              "      <td>1</td>\n",
              "      <td>340561535754259</td>\n",
              "      <td>huong 27 thg 2 2022</td>\n",
              "      <td>[Sáº£n pháº©m má»i ra máº¯t] Ná»i chiÃªn khÃ...</td>\n",
              "      <td>5</td>\n",
              "      <td>7211004635</td>\n",
              "      <td>SDA</td>\n",
              "      <td>ACTI-FRY</td>\n",
              "      <td>EY111B15</td>\n",
              "      <td>Ná»i chiÃªn khÃ´ng dáº§u Tefal XL Ultra Fry E...</td>\n",
              "      <td>Feb</td>\n",
              "      <td>2022</td>\n",
              "      <td>KhÃ´ng cÃ³ thÃ´ng tin Review</td>\n",
              "      <td>NaN</td>\n",
              "      <td>NaN</td>\n",
              "      <td>NaN</td>\n",
              "      <td>NaN</td>\n",
              "      <td>NaN</td>\n",
              "      <td>neutral</td>\n",
              "      <td>neutral</td>\n",
              "    </tr>\n",
              "    <tr>\n",
              "      <th>1</th>\n",
              "      <td>1</td>\n",
              "      <td>2</td>\n",
              "      <td>337165042503458</td>\n",
              "      <td>máy ép trái cây thì rất ok, ép rau thì kêu en ...</td>\n",
              "      <td>MÃ¡y Ã©p cháº­m trÃ¡i cÃ¢y TEFAL ZC150838, cÃ´...</td>\n",
              "      <td>5</td>\n",
              "      <td>7211003241</td>\n",
              "      <td>SDA</td>\n",
              "      <td>JUICER</td>\n",
              "      <td>ZC150838</td>\n",
              "      <td>MÃ¡y Ã©p trÃ¡i cÃ¢y ZC150838</td>\n",
              "      <td>Feb</td>\n",
              "      <td>2022</td>\n",
              "      <td>CÃ³ thÃ´ng tin Review</td>\n",
              "      <td>Quality</td>\n",
              "      <td>good</td>\n",
              "      <td>Tá»t</td>\n",
              "      <td>NaN</td>\n",
              "      <td>NaN</td>\n",
              "      <td>positive</td>\n",
              "      <td>positive</td>\n",
              "    </tr>\n",
              "  </tbody>\n",
              "</table>\n",
              "</div>"
            ],
            "text/plain": [
              "   index  STT         Order ID  \\\n",
              "0      0    1  340561535754259   \n",
              "1      1    2  337165042503458   \n",
              "\n",
              "                                      Review Content  \\\n",
              "0                                huong 27 thg 2 2022   \n",
              "1  máy ép trái cây thì rất ok, ép rau thì kêu en ...   \n",
              "\n",
              "                                             Product  Rating   CMMF code  CAT  \\\n",
              "0  [Sáº£n pháº©m má»i ra máº¯t] Ná»i chiÃªn khÃ...       5  7211004635  SDA   \n",
              "1  MÃ¡y Ã©p cháº­m trÃ¡i cÃ¢y TEFAL ZC150838, cÃ´...       5  7211003241  SDA   \n",
              "\n",
              "    SUB-CAT MODEL/DESC                                          Item Desc  \\\n",
              "0  ACTI-FRY   EY111B15  Ná»i chiÃªn khÃ´ng dáº§u Tefal XL Ultra Fry E...   \n",
              "1    JUICER   ZC150838                       MÃ¡y Ã©p trÃ¡i cÃ¢y ZC150838   \n",
              "\n",
              "   Month report  YEAR-REPORT                 TÃ¬nh tráº¡ng Type 1 Level 1  \\\n",
              "0           Feb         2022  KhÃ´ng cÃ³ thÃ´ng tin Review            NaN   \n",
              "1           Feb         2022         CÃ³ thÃ´ng tin Review        Quality   \n",
              "\n",
              "  good/bad Type 1 Level 2 Type 2 Level 1 Type 2 Level 2   emotion emotion.1  \n",
              "0      NaN            NaN            NaN            NaN   neutral   neutral  \n",
              "1     good          Tá»t            NaN            NaN  positive  positive  "
            ]
          },
          "execution_count": 7,
          "metadata": {},
          "output_type": "execute_result"
        }
      ],
      "source": [
        "##### READ ME #####\n",
        "# The data on Git uses anonymized and truncated versions due to proprietary information.\n",
        "# Outputs may differ from Colab data\n",
        "# Anon-Data = Anonymized data for public Git repo\n",
        "# Original = Non-anonymized data for private repo\n",
        "################### \n",
        "\n",
        "# Load ReviewEmotion.xlsx file\n",
        "# Method 1a - Load anonymized data for public Git repo\n",
        "#__file__ = 'Anon-Data-Review-Emotion-Prediction.xlsx'\n",
        "#__location__ = os.path.realpath(os.path.join(os.getcwd(), os.path.dirname(__file__),'..'))\n",
        "#dfreview = pd.read_excel(f'{__location__}\\data\\\\raw\\{__file__}', sheet_name='review_emotions', header=0, converters={'Order ID':str})\n",
        "\n",
        "# Method 1b - Load original data for private repo\n",
        "__file__ = 'Review Emotion Prediction Jul 21 2022.xlsx'\n",
        "__location__ = os.path.realpath(os.path.join(os.getcwd(), os.path.dirname(__file__),'..'))\n",
        "print(__location__)\n",
        "dfreview = pd.read_excel(f'{__location__}\\data\\\\raw\\{__file__}', sheet_name='review_emotions', header=0, converters={'Order ID':str})\n",
        "\n",
        "# Method 2 - Load from local absolute directory \n",
        "#dfreview = pd.read_excel('C:\\\\Users\\\\User\\\\Python-Projects\\\\SIADS 697 Capstone Git Repo\\\\realtime_dreamer\\\\data\\\\raw\\\\Review Emotion Prediction Jul 21 2022.xlsx', sheet_name='review_emotions', header=0, converters={'Order ID':str})\n",
        "\n",
        "# Method 3 - Load from Google Colab\n",
        "#dfreview = pd.read_excel('/content/drive/My Drive/Realtime Dreamer/Sentiment Analysis/Review Emotion Prediction Jul 21 2022.xlsx', sheet_name='review_emotions', header=0, converters={'Order ID':str})\n",
        "\n",
        "dfreview.head(2)"
      ]
    },
    {
      "cell_type": "code",
      "execution_count": 8,
      "metadata": {
        "colab": {
          "base_uri": "https://localhost:8080/",
          "height": 261
        },
        "id": "SMff279bun3I",
        "outputId": "705c76b3-3f92-43c9-a137-40b010bcfeae"
      },
      "outputs": [
        {
          "name": "stdout",
          "output_type": "stream",
          "text": [
            "dfreview.shape (23535, 20)\n"
          ]
        },
        {
          "data": {
            "text/html": [
              "<div>\n",
              "<style scoped>\n",
              "    .dataframe tbody tr th:only-of-type {\n",
              "        vertical-align: middle;\n",
              "    }\n",
              "\n",
              "    .dataframe tbody tr th {\n",
              "        vertical-align: top;\n",
              "    }\n",
              "\n",
              "    .dataframe thead th {\n",
              "        text-align: right;\n",
              "    }\n",
              "</style>\n",
              "<table border=\"1\" class=\"dataframe\">\n",
              "  <thead>\n",
              "    <tr style=\"text-align: right;\">\n",
              "      <th></th>\n",
              "      <th>index</th>\n",
              "      <th>STT</th>\n",
              "      <th>orderItemId</th>\n",
              "      <th>Review Content</th>\n",
              "      <th>Product</th>\n",
              "      <th>Rating</th>\n",
              "      <th>CMMF code</th>\n",
              "      <th>CAT</th>\n",
              "      <th>SUB-CAT</th>\n",
              "      <th>MODEL/DESC</th>\n",
              "      <th>Item Desc</th>\n",
              "      <th>Month report</th>\n",
              "      <th>YEAR-REPORT</th>\n",
              "      <th>TÃ¬nh tráº¡ng</th>\n",
              "      <th>Type 1 Level 1</th>\n",
              "      <th>good/bad</th>\n",
              "      <th>Type 1 Level 2</th>\n",
              "      <th>Type 2 Level 1</th>\n",
              "      <th>Type 2 Level 2</th>\n",
              "      <th>emotion</th>\n",
              "      <th>emotion-int</th>\n",
              "    </tr>\n",
              "  </thead>\n",
              "  <tbody>\n",
              "    <tr>\n",
              "      <th>0</th>\n",
              "      <td>0</td>\n",
              "      <td>1</td>\n",
              "      <td>340561535754259</td>\n",
              "      <td>huong 27 thg 2 2022</td>\n",
              "      <td>[Sáº£n pháº©m má»i ra máº¯t] Ná»i chiÃªn khÃ...</td>\n",
              "      <td>5</td>\n",
              "      <td>7211004635</td>\n",
              "      <td>SDA</td>\n",
              "      <td>ACTI-FRY</td>\n",
              "      <td>EY111B15</td>\n",
              "      <td>Ná»i chiÃªn khÃ´ng dáº§u Tefal XL Ultra Fry E...</td>\n",
              "      <td>Feb</td>\n",
              "      <td>2022</td>\n",
              "      <td>KhÃ´ng cÃ³ thÃ´ng tin Review</td>\n",
              "      <td>NaN</td>\n",
              "      <td>NaN</td>\n",
              "      <td>NaN</td>\n",
              "      <td>NaN</td>\n",
              "      <td>NaN</td>\n",
              "      <td>neutral</td>\n",
              "      <td>0</td>\n",
              "    </tr>\n",
              "    <tr>\n",
              "      <th>1</th>\n",
              "      <td>1</td>\n",
              "      <td>2</td>\n",
              "      <td>337165042503458</td>\n",
              "      <td>máy ép trái cây thì rất ok, ép rau thì kêu en ...</td>\n",
              "      <td>MÃ¡y Ã©p cháº­m trÃ¡i cÃ¢y TEFAL ZC150838, cÃ´...</td>\n",
              "      <td>5</td>\n",
              "      <td>7211003241</td>\n",
              "      <td>SDA</td>\n",
              "      <td>JUICER</td>\n",
              "      <td>ZC150838</td>\n",
              "      <td>MÃ¡y Ã©p trÃ¡i cÃ¢y ZC150838</td>\n",
              "      <td>Feb</td>\n",
              "      <td>2022</td>\n",
              "      <td>CÃ³ thÃ´ng tin Review</td>\n",
              "      <td>Quality</td>\n",
              "      <td>good</td>\n",
              "      <td>Tá»t</td>\n",
              "      <td>NaN</td>\n",
              "      <td>NaN</td>\n",
              "      <td>positive</td>\n",
              "      <td>1</td>\n",
              "    </tr>\n",
              "  </tbody>\n",
              "</table>\n",
              "</div>"
            ],
            "text/plain": [
              "   index  STT      orderItemId  \\\n",
              "0      0    1  340561535754259   \n",
              "1      1    2  337165042503458   \n",
              "\n",
              "                                      Review Content  \\\n",
              "0                                huong 27 thg 2 2022   \n",
              "1  máy ép trái cây thì rất ok, ép rau thì kêu en ...   \n",
              "\n",
              "                                             Product  Rating   CMMF code  CAT  \\\n",
              "0  [Sáº£n pháº©m má»i ra máº¯t] Ná»i chiÃªn khÃ...       5  7211004635  SDA   \n",
              "1  MÃ¡y Ã©p cháº­m trÃ¡i cÃ¢y TEFAL ZC150838, cÃ´...       5  7211003241  SDA   \n",
              "\n",
              "    SUB-CAT MODEL/DESC                                          Item Desc  \\\n",
              "0  ACTI-FRY   EY111B15  Ná»i chiÃªn khÃ´ng dáº§u Tefal XL Ultra Fry E...   \n",
              "1    JUICER   ZC150838                       MÃ¡y Ã©p trÃ¡i cÃ¢y ZC150838   \n",
              "\n",
              "  Month report  YEAR-REPORT                 TÃ¬nh tráº¡ng Type 1 Level 1  \\\n",
              "0          Feb         2022  KhÃ´ng cÃ³ thÃ´ng tin Review            NaN   \n",
              "1          Feb         2022         CÃ³ thÃ´ng tin Review        Quality   \n",
              "\n",
              "  good/bad Type 1 Level 2 Type 2 Level 1 Type 2 Level 2   emotion  emotion-int  \n",
              "0      NaN            NaN            NaN            NaN   neutral            0  \n",
              "1     good          Tá»t            NaN            NaN  positive            1  "
            ]
          },
          "execution_count": 8,
          "metadata": {},
          "output_type": "execute_result"
        }
      ],
      "source": [
        "# Pre-process dfreview\n",
        "dfreview.columns = dfreview.columns.str.strip()\n",
        "if 'emotion.1' in dfreview.columns:\n",
        "  dfreview = dfreview.drop(['emotion.1'], axis='columns')\n",
        "dfreview = dfreview.rename(columns={'Order ID':'orderItemId'})\n",
        "#dfreview['orderItemId'] = dfreview['orderItemId'].astype(float).astype(int).astype(str) # On Colab, include this line to avoid string with decimals\n",
        "print('dfreview.shape', dfreview.shape)\n",
        "\n",
        "# Convert sentiments to int: -1=negative, 0=neutral, 1=positive\n",
        "dfreview['emotion-int'] = pd.factorize(dfreview['emotion'], na_sentinel=0)[0] \n",
        "dfreview.loc[dfreview['emotion-int'] == 2, 'emotion-int'] = -1\n",
        "dfreview.head(2)"
      ]
    },
    {
      "cell_type": "markdown",
      "metadata": {
        "id": "2sz-zUaRyXDQ"
      },
      "source": [
        "## Load & Process Shipping.xlsx"
      ]
    },
    {
      "cell_type": "code",
      "execution_count": 9,
      "metadata": {
        "colab": {
          "base_uri": "https://localhost:8080/",
          "height": 156
        },
        "id": "I2Yw2rdyydD6",
        "outputId": "a189ec5d-4f16-4980-cd08-2420966bcbd3"
      },
      "outputs": [
        {
          "data": {
            "text/html": [
              "<div>\n",
              "<style scoped>\n",
              "    .dataframe tbody tr th:only-of-type {\n",
              "        vertical-align: middle;\n",
              "    }\n",
              "\n",
              "    .dataframe tbody tr th {\n",
              "        vertical-align: top;\n",
              "    }\n",
              "\n",
              "    .dataframe thead th {\n",
              "        text-align: right;\n",
              "    }\n",
              "</style>\n",
              "<table border=\"1\" class=\"dataframe\">\n",
              "  <thead>\n",
              "    <tr style=\"text-align: right;\">\n",
              "      <th></th>\n",
              "      <th>productId</th>\n",
              "      <th>orderItemId</th>\n",
              "      <th>paidPrice</th>\n",
              "      <th>unitPrice</th>\n",
              "      <th>sellerDiscountTotal</th>\n",
              "      <th>createTime</th>\n",
              "      <th>shippingDays</th>\n",
              "      <th>canceledDays</th>\n",
              "      <th>shippingDistrict</th>\n",
              "      <th>shippingRegion</th>\n",
              "      <th>shippingFee</th>\n",
              "      <th>status</th>\n",
              "      <th>buyerFailedDeliveryReason</th>\n",
              "      <th>payMethod</th>\n",
              "      <th>month</th>\n",
              "    </tr>\n",
              "  </thead>\n",
              "  <tbody>\n",
              "    <tr>\n",
              "      <th>0</th>\n",
              "      <td>512596106</td>\n",
              "      <td>273576370012503</td>\n",
              "      <td>384000</td>\n",
              "      <td>384000</td>\n",
              "      <td>NaN</td>\n",
              "      <td>31 Jan 2021 23:19</td>\n",
              "      <td>1</td>\n",
              "      <td>1</td>\n",
              "      <td>Quận 11</td>\n",
              "      <td>Southern_Southeast</td>\n",
              "      <td>6092</td>\n",
              "      <td>delivered</td>\n",
              "      <td>NaN</td>\n",
              "      <td>MIXEDCARD</td>\n",
              "      <td>1</td>\n",
              "    </tr>\n",
              "    <tr>\n",
              "      <th>1</th>\n",
              "      <td>700404651</td>\n",
              "      <td>273587525539381</td>\n",
              "      <td>170000</td>\n",
              "      <td>190000</td>\n",
              "      <td>-20000.0</td>\n",
              "      <td>31 Jan 2021 23:11</td>\n",
              "      <td>2</td>\n",
              "      <td>2</td>\n",
              "      <td>Thành Phố Huế</td>\n",
              "      <td>Central_North_Central</td>\n",
              "      <td>2600</td>\n",
              "      <td>delivered</td>\n",
              "      <td>NaN</td>\n",
              "      <td>MOMO_WALLET</td>\n",
              "      <td>1</td>\n",
              "    </tr>\n",
              "  </tbody>\n",
              "</table>\n",
              "</div>"
            ],
            "text/plain": [
              "   productId      orderItemId  paidPrice  unitPrice  sellerDiscountTotal  \\\n",
              "0  512596106  273576370012503     384000     384000                  NaN   \n",
              "1  700404651  273587525539381     170000     190000             -20000.0   \n",
              "\n",
              "          createTime  shippingDays  canceledDays shippingDistrict  \\\n",
              "0  31 Jan 2021 23:19             1             1          Quận 11   \n",
              "1  31 Jan 2021 23:11             2             2    Thành Phố Huế   \n",
              "\n",
              "          shippingRegion  shippingFee     status buyerFailedDeliveryReason  \\\n",
              "0     Southern_Southeast         6092  delivered                       NaN   \n",
              "1  Central_North_Central         2600  delivered                       NaN   \n",
              "\n",
              "     payMethod  month  \n",
              "0    MIXEDCARD      1  \n",
              "1  MOMO_WALLET      1  "
            ]
          },
          "execution_count": 9,
          "metadata": {},
          "output_type": "execute_result"
        }
      ],
      "source": [
        "# Load Shipping.xlsx\n",
        "__file__ = 'Data-cleaned-shipping.csv'\n",
        "__location__ = os.path.realpath(os.path.join(os.getcwd(), os.path.dirname(__file__),'..'))\n",
        "try:\n",
        "    # Original data for private repo \n",
        "    dfship = pd.read_csv(f'{__location__}\\data\\\\raw\\{__file__}', converters={'orderItemId':int})\n",
        "except:\n",
        "    # Works for anonymized data\n",
        "    dfship = pd.read_csv(f'{__location__}\\data\\\\raw\\{__file__}')  \n",
        "\n",
        "# Method 3 - Load from Google Colab\n",
        "#dfship = pd.read_csv('/content/drive/My Drive/Realtime Dreamer/Predictive Modeling/Raw Data/Data-cleaned-shipping.csv', converters={'orderItemId':int})\n",
        "dfship.head(2)"
      ]
    },
    {
      "cell_type": "code",
      "execution_count": 10,
      "metadata": {
        "colab": {
          "base_uri": "https://localhost:8080/",
          "height": 156
        },
        "id": "3WJq4X141UA6",
        "outputId": "ff2951d8-612a-4c50-a3cb-7509f7c60db5"
      },
      "outputs": [
        {
          "data": {
            "text/html": [
              "<div>\n",
              "<style scoped>\n",
              "    .dataframe tbody tr th:only-of-type {\n",
              "        vertical-align: middle;\n",
              "    }\n",
              "\n",
              "    .dataframe tbody tr th {\n",
              "        vertical-align: top;\n",
              "    }\n",
              "\n",
              "    .dataframe thead th {\n",
              "        text-align: right;\n",
              "    }\n",
              "</style>\n",
              "<table border=\"1\" class=\"dataframe\">\n",
              "  <thead>\n",
              "    <tr style=\"text-align: right;\">\n",
              "      <th></th>\n",
              "      <th>productId</th>\n",
              "      <th>orderItemId</th>\n",
              "      <th>paidPrice</th>\n",
              "      <th>unitPrice</th>\n",
              "      <th>sellerDiscountTotal</th>\n",
              "      <th>createTime</th>\n",
              "      <th>shippingDays</th>\n",
              "      <th>canceledDays</th>\n",
              "      <th>shippingDistrict</th>\n",
              "      <th>shippingRegion</th>\n",
              "      <th>shippingFee</th>\n",
              "      <th>status</th>\n",
              "      <th>buyerFailedDeliveryReason</th>\n",
              "      <th>payMethod</th>\n",
              "      <th>month</th>\n",
              "    </tr>\n",
              "  </thead>\n",
              "  <tbody>\n",
              "    <tr>\n",
              "      <th>0</th>\n",
              "      <td>512596106</td>\n",
              "      <td>273576369912503</td>\n",
              "      <td>384000</td>\n",
              "      <td>384000</td>\n",
              "      <td>NaN</td>\n",
              "      <td>31 Jan 2021 23:19</td>\n",
              "      <td>1</td>\n",
              "      <td>1</td>\n",
              "      <td>Quận 11</td>\n",
              "      <td>Southern_Southeast</td>\n",
              "      <td>6092</td>\n",
              "      <td>delivered</td>\n",
              "      <td>NaN</td>\n",
              "      <td>MIXEDCARD</td>\n",
              "      <td>1</td>\n",
              "    </tr>\n",
              "    <tr>\n",
              "      <th>1</th>\n",
              "      <td>700404651</td>\n",
              "      <td>273587525439381</td>\n",
              "      <td>170000</td>\n",
              "      <td>190000</td>\n",
              "      <td>-20000.0</td>\n",
              "      <td>31 Jan 2021 23:11</td>\n",
              "      <td>2</td>\n",
              "      <td>2</td>\n",
              "      <td>Thành Phố Huế</td>\n",
              "      <td>Central_North_Central</td>\n",
              "      <td>2600</td>\n",
              "      <td>delivered</td>\n",
              "      <td>NaN</td>\n",
              "      <td>MOMO_WALLET</td>\n",
              "      <td>1</td>\n",
              "    </tr>\n",
              "  </tbody>\n",
              "</table>\n",
              "</div>"
            ],
            "text/plain": [
              "   productId      orderItemId  paidPrice  unitPrice  sellerDiscountTotal  \\\n",
              "0  512596106  273576369912503     384000     384000                  NaN   \n",
              "1  700404651  273587525439381     170000     190000             -20000.0   \n",
              "\n",
              "          createTime  shippingDays  canceledDays shippingDistrict  \\\n",
              "0  31 Jan 2021 23:19             1             1          Quận 11   \n",
              "1  31 Jan 2021 23:11             2             2    Thành Phố Huế   \n",
              "\n",
              "          shippingRegion  shippingFee     status buyerFailedDeliveryReason  \\\n",
              "0     Southern_Southeast         6092  delivered                       NaN   \n",
              "1  Central_North_Central         2600  delivered                       NaN   \n",
              "\n",
              "     payMethod  month  \n",
              "0    MIXEDCARD      1  \n",
              "1  MOMO_WALLET      1  "
            ]
          },
          "execution_count": 10,
          "metadata": {},
          "output_type": "execute_result"
        }
      ],
      "source": [
        "##Note that Order ID for Shipping.xlsx is incremented by 100,000 compared to Review.xlsx, ie. \n",
        "## Shipping.csv Order ID 270548084456787 == Review.csv Order Id 270548084356787\n",
        "dfship.columns = dfship.columns.str.strip()\n",
        "dfship['orderItemId'] = dfship['orderItemId'] - 100000\n",
        "dfship['orderItemId'] = dfship['orderItemId'].astype(str)\n",
        "dfship.head(2)"
      ]
    },
    {
      "cell_type": "markdown",
      "metadata": {
        "id": "9MRIXwzo1MIm"
      },
      "source": [
        "## Merge Shipping and Review DF"
      ]
    },
    {
      "cell_type": "code",
      "execution_count": 11,
      "metadata": {
        "colab": {
          "base_uri": "https://localhost:8080/",
          "height": 656
        },
        "id": "kLhLzdli1maY",
        "outputId": "f8905975-6865-490b-e95e-e11fa2455b64"
      },
      "outputs": [
        {
          "name": "stdout",
          "output_type": "stream",
          "text": [
            "(116334, 35)\n"
          ]
        },
        {
          "data": {
            "text/html": [
              "<div>\n",
              "<style scoped>\n",
              "    .dataframe tbody tr th:only-of-type {\n",
              "        vertical-align: middle;\n",
              "    }\n",
              "\n",
              "    .dataframe tbody tr th {\n",
              "        vertical-align: top;\n",
              "    }\n",
              "\n",
              "    .dataframe thead th {\n",
              "        text-align: right;\n",
              "    }\n",
              "</style>\n",
              "<table border=\"1\" class=\"dataframe\">\n",
              "  <thead>\n",
              "    <tr style=\"text-align: right;\">\n",
              "      <th></th>\n",
              "      <th>productId</th>\n",
              "      <th>paidPrice</th>\n",
              "      <th>unitPrice</th>\n",
              "      <th>sellerDiscountTotal</th>\n",
              "      <th>createTime</th>\n",
              "      <th>shippingDays</th>\n",
              "      <th>canceledDays</th>\n",
              "      <th>shippingDistrict</th>\n",
              "      <th>shippingRegion</th>\n",
              "      <th>shippingFee</th>\n",
              "      <th>status</th>\n",
              "      <th>buyerFailedDeliveryReason</th>\n",
              "      <th>payMethod</th>\n",
              "      <th>month</th>\n",
              "      <th>index</th>\n",
              "      <th>STT</th>\n",
              "      <th>Review Content</th>\n",
              "      <th>Product</th>\n",
              "      <th>Rating</th>\n",
              "      <th>CMMF code</th>\n",
              "      <th>CAT</th>\n",
              "      <th>SUB-CAT</th>\n",
              "      <th>MODEL/DESC</th>\n",
              "      <th>Item Desc</th>\n",
              "      <th>Month report</th>\n",
              "      <th>YEAR-REPORT</th>\n",
              "      <th>TÃ¬nh tráº¡ng</th>\n",
              "      <th>Type 1 Level 1</th>\n",
              "      <th>good/bad</th>\n",
              "      <th>Type 1 Level 2</th>\n",
              "      <th>Type 2 Level 1</th>\n",
              "      <th>Type 2 Level 2</th>\n",
              "      <th>emotion</th>\n",
              "      <th>emotion-int</th>\n",
              "      <th>shipreview_merge</th>\n",
              "    </tr>\n",
              "    <tr>\n",
              "      <th>orderItemId</th>\n",
              "      <th></th>\n",
              "      <th></th>\n",
              "      <th></th>\n",
              "      <th></th>\n",
              "      <th></th>\n",
              "      <th></th>\n",
              "      <th></th>\n",
              "      <th></th>\n",
              "      <th></th>\n",
              "      <th></th>\n",
              "      <th></th>\n",
              "      <th></th>\n",
              "      <th></th>\n",
              "      <th></th>\n",
              "      <th></th>\n",
              "      <th></th>\n",
              "      <th></th>\n",
              "      <th></th>\n",
              "      <th></th>\n",
              "      <th></th>\n",
              "      <th></th>\n",
              "      <th></th>\n",
              "      <th></th>\n",
              "      <th></th>\n",
              "      <th></th>\n",
              "      <th></th>\n",
              "      <th></th>\n",
              "      <th></th>\n",
              "      <th></th>\n",
              "      <th></th>\n",
              "      <th></th>\n",
              "      <th></th>\n",
              "      <th></th>\n",
              "      <th></th>\n",
              "      <th></th>\n",
              "    </tr>\n",
              "  </thead>\n",
              "  <tbody>\n",
              "    <tr>\n",
              "      <th>321762717112689</th>\n",
              "      <td>8.041447e+08</td>\n",
              "      <td>369000.0</td>\n",
              "      <td>379000.0</td>\n",
              "      <td>-10000.0</td>\n",
              "      <td>15 Nov 2021 22:10</td>\n",
              "      <td>0.0</td>\n",
              "      <td>0.0</td>\n",
              "      <td>Quận Gò Vấp</td>\n",
              "      <td>Southern_Southeast</td>\n",
              "      <td>0.0</td>\n",
              "      <td>delivered</td>\n",
              "      <td>NaN</td>\n",
              "      <td>COD</td>\n",
              "      <td>12.0</td>\n",
              "      <td>7005.0</td>\n",
              "      <td>7006.0</td>\n",
              "      <td>Tran T. 18 thg 11 2021</td>\n",
              "      <td>Bá» 2 cháº£o chá»ng dÃ­nh vÃ¢n ÄÃ¡ Tefal Na...</td>\n",
              "      <td>5.0</td>\n",
              "      <td>4200007335</td>\n",
              "      <td>CW</td>\n",
              "      <td>Combo-CW</td>\n",
              "      <td>CCWCW2-04</td>\n",
              "      <td>Bá» 2 Cháº£o chiÃªn, Cháº£o sÃ¢u lá»ng Tefal...</td>\n",
              "      <td>Nov</td>\n",
              "      <td>2021.0</td>\n",
              "      <td>KhÃ´ng cÃ³ thÃ´ng tin Review</td>\n",
              "      <td>NaN</td>\n",
              "      <td>NaN</td>\n",
              "      <td>NaN</td>\n",
              "      <td>NaN</td>\n",
              "      <td>NaN</td>\n",
              "      <td>neutral</td>\n",
              "      <td>0.0</td>\n",
              "      <td>both</td>\n",
              "    </tr>\n",
              "    <tr>\n",
              "      <th>321754125634521</th>\n",
              "      <td>1.259252e+09</td>\n",
              "      <td>6399000.0</td>\n",
              "      <td>6549000.0</td>\n",
              "      <td>-150000.0</td>\n",
              "      <td>15 Nov 2021 17:22</td>\n",
              "      <td>4.0</td>\n",
              "      <td>4.0</td>\n",
              "      <td>Quận 4</td>\n",
              "      <td>Southern_Southeast</td>\n",
              "      <td>0.0</td>\n",
              "      <td>delivered</td>\n",
              "      <td>NaN</td>\n",
              "      <td>COD</td>\n",
              "      <td>12.0</td>\n",
              "      <td>6246.0</td>\n",
              "      <td>6247.0</td>\n",
              "      <td>Hàng tặng kèm máy xay da năng ,nhìn chắc chắn ...</td>\n",
              "      <td>MÃ¡y xay thá»t, xay thá»±c pháº©m Äa nÄng, ...</td>\n",
              "      <td>5.0</td>\n",
              "      <td>8010001050</td>\n",
              "      <td>SDA</td>\n",
              "      <td>FOOD PROCESSOR</td>\n",
              "      <td>MB520138</td>\n",
              "      <td>MÃ¡y xay thá»±c pháº©m Tefal 3 trong 1 MB52013...</td>\n",
              "      <td>Nov</td>\n",
              "      <td>2021.0</td>\n",
              "      <td>CÃ³ thÃ´ng tin Review</td>\n",
              "      <td>Product</td>\n",
              "      <td>NaN</td>\n",
              "      <td>Äáº¹p</td>\n",
              "      <td>NaN</td>\n",
              "      <td>NaN</td>\n",
              "      <td>positive</td>\n",
              "      <td>1.0</td>\n",
              "      <td>both</td>\n",
              "    </tr>\n",
              "  </tbody>\n",
              "</table>\n",
              "</div>"
            ],
            "text/plain": [
              "                    productId  paidPrice  unitPrice  sellerDiscountTotal  \\\n",
              "orderItemId                                                                \n",
              "321762717112689  8.041447e+08   369000.0   379000.0             -10000.0   \n",
              "321754125634521  1.259252e+09  6399000.0  6549000.0            -150000.0   \n",
              "\n",
              "                        createTime  shippingDays  canceledDays  \\\n",
              "orderItemId                                                      \n",
              "321762717112689  15 Nov 2021 22:10           0.0           0.0   \n",
              "321754125634521  15 Nov 2021 17:22           4.0           4.0   \n",
              "\n",
              "                shippingDistrict      shippingRegion  shippingFee     status  \\\n",
              "orderItemId                                                                    \n",
              "321762717112689      Quận Gò Vấp  Southern_Southeast          0.0  delivered   \n",
              "321754125634521           Quận 4  Southern_Southeast          0.0  delivered   \n",
              "\n",
              "                buyerFailedDeliveryReason payMethod  month   index     STT  \\\n",
              "orderItemId                                                                  \n",
              "321762717112689                       NaN       COD   12.0  7005.0  7006.0   \n",
              "321754125634521                       NaN       COD   12.0  6246.0  6247.0   \n",
              "\n",
              "                                                    Review Content  \\\n",
              "orderItemId                                                          \n",
              "321762717112689                             Tran T. 18 thg 11 2021   \n",
              "321754125634521  Hàng tặng kèm máy xay da năng ,nhìn chắc chắn ...   \n",
              "\n",
              "                                                           Product  Rating  \\\n",
              "orderItemId                                                                  \n",
              "321762717112689  Bá» 2 cháº£o chá»ng dÃ­nh vÃ¢n ÄÃ¡ Tefal Na...     5.0   \n",
              "321754125634521  MÃ¡y xay thá»t, xay thá»±c pháº©m Äa nÄng, ...     5.0   \n",
              "\n",
              "                  CMMF code  CAT         SUB-CAT MODEL/DESC  \\\n",
              "orderItemId                                                   \n",
              "321762717112689  4200007335   CW        Combo-CW  CCWCW2-04   \n",
              "321754125634521  8010001050  SDA  FOOD PROCESSOR   MB520138   \n",
              "\n",
              "                                                         Item Desc  \\\n",
              "orderItemId                                                          \n",
              "321762717112689  Bá» 2 Cháº£o chiÃªn, Cháº£o sÃ¢u lá»ng Tefal...   \n",
              "321754125634521  MÃ¡y xay thá»±c pháº©m Tefal 3 trong 1 MB52013...   \n",
              "\n",
              "                Month report  YEAR-REPORT                 TÃ¬nh tráº¡ng  \\\n",
              "orderItemId                                                               \n",
              "321762717112689          Nov       2021.0  KhÃ´ng cÃ³ thÃ´ng tin Review   \n",
              "321754125634521          Nov       2021.0         CÃ³ thÃ´ng tin Review   \n",
              "\n",
              "                Type 1 Level 1 good/bad Type 1 Level 2 Type 2 Level 1  \\\n",
              "orderItemId                                                             \n",
              "321762717112689            NaN      NaN            NaN            NaN   \n",
              "321754125634521        Product      NaN         Äáº¹p            NaN   \n",
              "\n",
              "                Type 2 Level 2   emotion  emotion-int shipreview_merge  \n",
              "orderItemId                                                             \n",
              "321762717112689            NaN   neutral          0.0             both  \n",
              "321754125634521            NaN  positive          1.0             both  "
            ]
          },
          "execution_count": 11,
          "metadata": {},
          "output_type": "execute_result"
        }
      ],
      "source": [
        "# Merge Shipping and ReviewEmotion DF\n",
        "dfshipreview = pd.DataFrame()\n",
        "dfshipreview = pd.merge(dfship, dfreview, on='orderItemId',how='outer', indicator=True)\n",
        "dfshipreview = dfshipreview.set_index(['orderItemId'])\n",
        "dfshipreview = dfshipreview.sort_values(by=['_merge', 'orderItemId'], ascending=False)\n",
        "dfshipreview = dfshipreview.rename(columns={'_merge':'shipreview_merge'})\n",
        "print(dfshipreview.shape)\n",
        "dfshipreview.head(2)"
      ]
    },
    {
      "cell_type": "code",
      "execution_count": 12,
      "metadata": {
        "colab": {
          "base_uri": "https://localhost:8080/"
        },
        "id": "QmgcgFlB1-pi",
        "outputId": "fb693118-0a9c-4a24-d7ab-d3bcafa2be90"
      },
      "outputs": [
        {
          "name": "stdout",
          "output_type": "stream",
          "text": [
            "<class 'pandas.core.frame.DataFrame'>\n",
            "Index: 116334 entries, 321762717112689 to 268547655674915\n",
            "Data columns (total 35 columns):\n",
            " #   Column                     Non-Null Count   Dtype   \n",
            "---  ------                     --------------   -----   \n",
            " 0   productId                  109586 non-null  float64 \n",
            " 1   paidPrice                  109586 non-null  float64 \n",
            " 2   unitPrice                  109586 non-null  float64 \n",
            " 3   sellerDiscountTotal        91130 non-null   float64 \n",
            " 4   createTime                 109586 non-null  object  \n",
            " 5   shippingDays               109586 non-null  float64 \n",
            " 6   canceledDays               109586 non-null  float64 \n",
            " 7   shippingDistrict           109586 non-null  object  \n",
            " 8   shippingRegion             109586 non-null  object  \n",
            " 9   shippingFee                109586 non-null  float64 \n",
            " 10  status                     109586 non-null  object  \n",
            " 11  buyerFailedDeliveryReason  41235 non-null   object  \n",
            " 12  payMethod                  109586 non-null  object  \n",
            " 13  month                      109586 non-null  float64 \n",
            " 14  index                      23535 non-null   float64 \n",
            " 15  STT                        23535 non-null   float64 \n",
            " 16  Review Content             21053 non-null   object  \n",
            " 17  Product                    23328 non-null   object  \n",
            " 18  Rating                     23535 non-null   float64 \n",
            " 19  CMMF code                  23262 non-null   object  \n",
            " 20  CAT                        23535 non-null   object  \n",
            " 21  SUB-CAT                    23285 non-null   object  \n",
            " 22  MODEL/DESC                 23279 non-null   object  \n",
            " 23  Item Desc                  23262 non-null   object  \n",
            " 24  Month report               23535 non-null   object  \n",
            " 25  YEAR-REPORT                23535 non-null   float64 \n",
            " 26  TÃ¬nh tráº¡ng              23535 non-null   object  \n",
            " 27  Type 1 Level 1             9508 non-null    object  \n",
            " 28  good/bad                   1 non-null       object  \n",
            " 29  Type 1 Level 2             9508 non-null    object  \n",
            " 30  Type 2 Level 1             1447 non-null    object  \n",
            " 31  Type 2 Level 2             1447 non-null    object  \n",
            " 32  emotion                    21052 non-null   object  \n",
            " 33  emotion-int                23535 non-null   float64 \n",
            " 34  shipreview_merge           116334 non-null  category\n",
            "dtypes: category(1), float64(13), object(21)\n",
            "memory usage: 31.2+ MB\n",
            "left_only     92799\n",
            "both          16787\n",
            "right_only     6748\n",
            "Name: shipreview_merge, dtype: int64\n"
          ]
        }
      ],
      "source": [
        "dfshipreview.info()\n",
        "print(dfshipreview['shipreview_merge'].value_counts())"
      ]
    },
    {
      "cell_type": "markdown",
      "metadata": {
        "id": "ngBKgEJ46GYv"
      },
      "source": [
        "# 2) Merge & Process to ProductPerformance.xlsx, Get Final Merged 3 DF"
      ]
    },
    {
      "cell_type": "markdown",
      "metadata": {
        "id": "CxzeuqOe5WPH"
      },
      "source": [
        "## Load ProductPerformance Data"
      ]
    },
    {
      "cell_type": "code",
      "execution_count": 14,
      "metadata": {
        "colab": {
          "base_uri": "https://localhost:8080/",
          "height": 330
        },
        "id": "ueY38LM15Z6b",
        "outputId": "1a6d8e66-de38-4183-b372-3ece17f9e7cd"
      },
      "outputs": [
        {
          "name": "stdout",
          "output_type": "stream",
          "text": [
            "dfprodperf.shape (3873, 19)\n"
          ]
        },
        {
          "data": {
            "text/html": [
              "<div>\n",
              "<style scoped>\n",
              "    .dataframe tbody tr th:only-of-type {\n",
              "        vertical-align: middle;\n",
              "    }\n",
              "\n",
              "    .dataframe tbody tr th {\n",
              "        vertical-align: top;\n",
              "    }\n",
              "\n",
              "    .dataframe thead th {\n",
              "        text-align: right;\n",
              "    }\n",
              "</style>\n",
              "<table border=\"1\" class=\"dataframe\">\n",
              "  <thead>\n",
              "    <tr style=\"text-align: right;\">\n",
              "      <th></th>\n",
              "      <th>Product Name</th>\n",
              "      <th>Product ID</th>\n",
              "      <th>URL</th>\n",
              "      <th>Product Visitors</th>\n",
              "      <th>Product Pageviews</th>\n",
              "      <th>Visitor Value</th>\n",
              "      <th>Add to Cart Visitors</th>\n",
              "      <th>Add to Cart Units</th>\n",
              "      <th>Add to Cart Conversion Rate</th>\n",
              "      <th>Wishlist Visitors</th>\n",
              "      <th>Wishlists</th>\n",
              "      <th>Buyers</th>\n",
              "      <th>Orders</th>\n",
              "      <th>Units Sold</th>\n",
              "      <th>Revenue</th>\n",
              "      <th>Conversion Rate</th>\n",
              "      <th>Revenue per Buyer</th>\n",
              "      <th>Average Cancellation Rate</th>\n",
              "      <th>month</th>\n",
              "    </tr>\n",
              "  </thead>\n",
              "  <tbody>\n",
              "    <tr>\n",
              "      <th>0</th>\n",
              "      <td>Máy làm sữa hạt, xay sinh tố và nấu đa năng Te...</td>\n",
              "      <td>878868949</td>\n",
              "      <td>-i878868949-s2519222497.html?urlFlag=true</td>\n",
              "      <td>8066</td>\n",
              "      <td>24834</td>\n",
              "      <td>118150.8</td>\n",
              "      <td>695</td>\n",
              "      <td>912</td>\n",
              "      <td>8.62%</td>\n",
              "      <td>429</td>\n",
              "      <td>433</td>\n",
              "      <td>370</td>\n",
              "      <td>420</td>\n",
              "      <td>432</td>\n",
              "      <td>953004368.0</td>\n",
              "      <td>4.59%</td>\n",
              "      <td>2575687.48</td>\n",
              "      <td>NaN</td>\n",
              "      <td>1</td>\n",
              "    </tr>\n",
              "    <tr>\n",
              "      <th>1</th>\n",
              "      <td>Nồi chiên không dầu điện tử XL 4.2L, Tefal EY4...</td>\n",
              "      <td>854036295</td>\n",
              "      <td>-i854036295-s2404528204.html?urlFlag=true</td>\n",
              "      <td>8602</td>\n",
              "      <td>30601</td>\n",
              "      <td>98981.73</td>\n",
              "      <td>681</td>\n",
              "      <td>865</td>\n",
              "      <td>7.92%</td>\n",
              "      <td>616</td>\n",
              "      <td>625</td>\n",
              "      <td>299</td>\n",
              "      <td>335</td>\n",
              "      <td>338</td>\n",
              "      <td>851440834.0</td>\n",
              "      <td>3.48%</td>\n",
              "      <td>2847628.21</td>\n",
              "      <td>NaN</td>\n",
              "      <td>1</td>\n",
              "    </tr>\n",
              "  </tbody>\n",
              "</table>\n",
              "</div>"
            ],
            "text/plain": [
              "                                        Product Name  Product ID  \\\n",
              "0  Máy làm sữa hạt, xay sinh tố và nấu đa năng Te...   878868949   \n",
              "1  Nồi chiên không dầu điện tử XL 4.2L, Tefal EY4...   854036295   \n",
              "\n",
              "                                         URL  Product Visitors  \\\n",
              "0  -i878868949-s2519222497.html?urlFlag=true              8066   \n",
              "1  -i854036295-s2404528204.html?urlFlag=true              8602   \n",
              "\n",
              "   Product Pageviews Visitor Value  Add to Cart Visitors  Add to Cart Units  \\\n",
              "0              24834      118150.8                   695                912   \n",
              "1              30601      98981.73                   681                865   \n",
              "\n",
              "  Add to Cart Conversion Rate  Wishlist Visitors  Wishlists  Buyers  Orders  \\\n",
              "0                       8.62%                429        433     370     420   \n",
              "1                       7.92%                616        625     299     335   \n",
              "\n",
              "   Units Sold      Revenue Conversion Rate Revenue per Buyer  \\\n",
              "0         432  953004368.0           4.59%        2575687.48   \n",
              "1         338  851440834.0           3.48%        2847628.21   \n",
              "\n",
              "   Average Cancellation Rate  month  \n",
              "0                        NaN      1  \n",
              "1                        NaN      1  "
            ]
          },
          "execution_count": 14,
          "metadata": {},
          "output_type": "execute_result"
        }
      ],
      "source": [
        "# Load Product Performance data\n",
        "\n",
        "# Method 1a - Load anonymized data for public repo\n",
        "#__file__ = 'Anon-Data-productperformance17months.csv'\n",
        "#__location__ = os.path.realpath(os.path.join(os.getcwd(), os.path.dirname(__file__),'..'))\n",
        "#dfprodperf = pd.read_csv(f'{__location__}\\data\\\\raw\\{__file__}', converters={'orderItemId':int}, encoding='ISO-8859-1', errors='ignore')\n",
        "\n",
        "\n",
        "# Method 1b - Load original data \n",
        "__file__ = 'Data-productperformance17months.csv'\n",
        "__location__ = os.path.realpath(os.path.join(os.getcwd(), os.path.dirname(__file__),'..'))\n",
        "dfprodperf = pd.read_csv(f'{__location__}\\data\\\\raw\\{__file__}', converters={'orderItemId':int})\n",
        "\n",
        "\n",
        "# Method 3 - Load from Google Colab\n",
        "# dfprodperf = pd.read_csv('/content/drive/My Drive/Realtime Dreamer/Predictive Modeling/Raw Data/Data-productperformance17months.csv', converters={'Product ID':str})\n",
        "\n",
        "dfprodperf.columns = dfprodperf.columns.str.strip()\n",
        "print('dfprodperf.shape', dfprodperf.shape)\n",
        "dfprodperf.head(2)"
      ]
    },
    {
      "cell_type": "markdown",
      "metadata": {
        "id": "sI1FgGM58q34"
      },
      "source": [
        "## Merge All 3 Datasets"
      ]
    },
    {
      "cell_type": "code",
      "execution_count": 15,
      "metadata": {
        "colab": {
          "base_uri": "https://localhost:8080/",
          "height": 130
        },
        "id": "e5rgHaJd9dy-",
        "outputId": "379ab5b3-e6a9-40d7-c032-326d74a627eb"
      },
      "outputs": [
        {
          "name": "stdout",
          "output_type": "stream",
          "text": [
            "dfprodperf.shape (577, 13)\n"
          ]
        }
      ],
      "source": [
        "# Aggregate ProductPerformance\n",
        "if 'Conversion Rate' in dfprodperf.columns:\n",
        "  dfprodperf = dfprodperf.drop(['Conversion Rate', 'Revenue per Buyer', 'Average Cancellation Rate'], axis='columns')\n",
        "\n",
        "dfprodperf = dfprodperf.groupby(['Product ID', 'Product Name']).sum().reset_index()\n",
        "dfprodperf['Product ID'] = dfprodperf['Product ID'].astype(int)\n",
        "print('dfprodperf.shape', dfprodperf.shape)\n",
        "#dfprodperf.head(2)"
      ]
    },
    {
      "cell_type": "code",
      "execution_count": 16,
      "metadata": {
        "colab": {
          "base_uri": "https://localhost:8080/",
          "height": 166
        },
        "id": "kz5GfTPO99el",
        "outputId": "4e8f2dea-1825-4c4f-8112-6fcec622e19f"
      },
      "outputs": [
        {
          "name": "stdout",
          "output_type": "stream",
          "text": [
            "dfshipreview.shape: (200, 3)\n"
          ]
        },
        {
          "name": "stderr",
          "output_type": "stream",
          "text": [
            "C:\\Users\\User\\AppData\\Local\\Temp\\ipykernel_12384\\243695357.py:2: FutureWarning: Indexing with multiple keys (implicitly converted to a tuple of keys) will be deprecated, use a list instead.\n",
            "  dfshipreview = dfshipreview.groupby(['productId'], as_index=False)['Rating', 'emotion-int'].mean()\n"
          ]
        }
      ],
      "source": [
        "# Aggregate dfshipreview\n",
        "dfshipreview = dfshipreview.groupby(['productId'], as_index=False)['Rating', 'emotion-int'].mean()\n",
        "dfshipreview['productId'] = dfshipreview['productId'].astype(int)\n",
        "print('dfshipreview.shape:', dfshipreview.shape)\n",
        "#dfshipreview.head(2)"
      ]
    },
    {
      "cell_type": "code",
      "execution_count": 17,
      "metadata": {
        "colab": {
          "base_uri": "https://localhost:8080/",
          "height": 372
        },
        "id": "BPpKDFUb7XtS",
        "outputId": "21f05534-3c90-4041-a1ec-0fd3ac9018a2"
      },
      "outputs": [
        {
          "name": "stdout",
          "output_type": "stream",
          "text": [
            "df.shape (577, 17)\n"
          ]
        },
        {
          "data": {
            "text/html": [
              "<div>\n",
              "<style scoped>\n",
              "    .dataframe tbody tr th:only-of-type {\n",
              "        vertical-align: middle;\n",
              "    }\n",
              "\n",
              "    .dataframe tbody tr th {\n",
              "        vertical-align: top;\n",
              "    }\n",
              "\n",
              "    .dataframe thead th {\n",
              "        text-align: right;\n",
              "    }\n",
              "</style>\n",
              "<table border=\"1\" class=\"dataframe\">\n",
              "  <thead>\n",
              "    <tr style=\"text-align: right;\">\n",
              "      <th></th>\n",
              "      <th>Product ID</th>\n",
              "      <th>Product Name</th>\n",
              "      <th>Product Visitors</th>\n",
              "      <th>Product Pageviews</th>\n",
              "      <th>Add to Cart Visitors</th>\n",
              "      <th>Add to Cart Units</th>\n",
              "      <th>Wishlist Visitors</th>\n",
              "      <th>Wishlists</th>\n",
              "      <th>Buyers</th>\n",
              "      <th>Orders</th>\n",
              "      <th>Units Sold</th>\n",
              "      <th>Revenue</th>\n",
              "      <th>month</th>\n",
              "      <th>productId</th>\n",
              "      <th>Rating</th>\n",
              "      <th>emotion-int</th>\n",
              "      <th>_merge</th>\n",
              "    </tr>\n",
              "  </thead>\n",
              "  <tbody>\n",
              "    <tr>\n",
              "      <th>155</th>\n",
              "      <td>854036295</td>\n",
              "      <td>Nồi chiên không dầu điện tử XL 4.2L, Tefal EY4...</td>\n",
              "      <td>195526</td>\n",
              "      <td>635372</td>\n",
              "      <td>22228</td>\n",
              "      <td>28778</td>\n",
              "      <td>5859</td>\n",
              "      <td>6065</td>\n",
              "      <td>4826</td>\n",
              "      <td>5547</td>\n",
              "      <td>5580</td>\n",
              "      <td>1.366605e+10</td>\n",
              "      <td>78</td>\n",
              "      <td>8.540363e+08</td>\n",
              "      <td>4.891599</td>\n",
              "      <td>0.542683</td>\n",
              "      <td>both</td>\n",
              "    </tr>\n",
              "    <tr>\n",
              "      <th>172</th>\n",
              "      <td>878868949</td>\n",
              "      <td>Máy làm sữa hạt, xay sinh tố và nấu đa năng Te...</td>\n",
              "      <td>150511</td>\n",
              "      <td>454671</td>\n",
              "      <td>12637</td>\n",
              "      <td>16337</td>\n",
              "      <td>4925</td>\n",
              "      <td>5024</td>\n",
              "      <td>3701</td>\n",
              "      <td>4254</td>\n",
              "      <td>4302</td>\n",
              "      <td>1.090847e+10</td>\n",
              "      <td>78</td>\n",
              "      <td>8.788689e+08</td>\n",
              "      <td>4.888889</td>\n",
              "      <td>0.513889</td>\n",
              "      <td>both</td>\n",
              "    </tr>\n",
              "    <tr>\n",
              "      <th>209</th>\n",
              "      <td>1071274457</td>\n",
              "      <td>Nồi chiên không dầu cơ XL 4.2L, Tefal EY201815...</td>\n",
              "      <td>149007</td>\n",
              "      <td>459843</td>\n",
              "      <td>14587</td>\n",
              "      <td>18571</td>\n",
              "      <td>4460</td>\n",
              "      <td>4568</td>\n",
              "      <td>3198</td>\n",
              "      <td>3672</td>\n",
              "      <td>3704</td>\n",
              "      <td>6.989100e+09</td>\n",
              "      <td>78</td>\n",
              "      <td>1.071274e+09</td>\n",
              "      <td>4.914062</td>\n",
              "      <td>0.597656</td>\n",
              "      <td>both</td>\n",
              "    </tr>\n",
              "    <tr>\n",
              "      <th>200</th>\n",
              "      <td>1020164438</td>\n",
              "      <td>Bộ 3 nồi chảo chống dính đáy từ cao cấp Tefal ...</td>\n",
              "      <td>148806</td>\n",
              "      <td>365023</td>\n",
              "      <td>6873</td>\n",
              "      <td>8794</td>\n",
              "      <td>2888</td>\n",
              "      <td>2926</td>\n",
              "      <td>2188</td>\n",
              "      <td>2470</td>\n",
              "      <td>2504</td>\n",
              "      <td>1.892271e+09</td>\n",
              "      <td>78</td>\n",
              "      <td>1.020164e+09</td>\n",
              "      <td>4.844691</td>\n",
              "      <td>0.473851</td>\n",
              "      <td>both</td>\n",
              "    </tr>\n",
              "    <tr>\n",
              "      <th>145</th>\n",
              "      <td>804144679</td>\n",
              "      <td>Bộ 2 chảo chống dính vân đá Tefal Natura, dùng...</td>\n",
              "      <td>123108</td>\n",
              "      <td>345452</td>\n",
              "      <td>15301</td>\n",
              "      <td>18688</td>\n",
              "      <td>6089</td>\n",
              "      <td>6134</td>\n",
              "      <td>5243</td>\n",
              "      <td>5680</td>\n",
              "      <td>5832</td>\n",
              "      <td>2.036456e+09</td>\n",
              "      <td>78</td>\n",
              "      <td>8.041447e+08</td>\n",
              "      <td>4.882461</td>\n",
              "      <td>0.470156</td>\n",
              "      <td>both</td>\n",
              "    </tr>\n",
              "  </tbody>\n",
              "</table>\n",
              "</div>"
            ],
            "text/plain": [
              "     Product ID                                       Product Name  \\\n",
              "155   854036295  Nồi chiên không dầu điện tử XL 4.2L, Tefal EY4...   \n",
              "172   878868949  Máy làm sữa hạt, xay sinh tố và nấu đa năng Te...   \n",
              "209  1071274457  Nồi chiên không dầu cơ XL 4.2L, Tefal EY201815...   \n",
              "200  1020164438  Bộ 3 nồi chảo chống dính đáy từ cao cấp Tefal ...   \n",
              "145   804144679  Bộ 2 chảo chống dính vân đá Tefal Natura, dùng...   \n",
              "\n",
              "     Product Visitors  Product Pageviews  Add to Cart Visitors  \\\n",
              "155            195526             635372                 22228   \n",
              "172            150511             454671                 12637   \n",
              "209            149007             459843                 14587   \n",
              "200            148806             365023                  6873   \n",
              "145            123108             345452                 15301   \n",
              "\n",
              "     Add to Cart Units  Wishlist Visitors  Wishlists  Buyers  Orders  \\\n",
              "155              28778               5859       6065    4826    5547   \n",
              "172              16337               4925       5024    3701    4254   \n",
              "209              18571               4460       4568    3198    3672   \n",
              "200               8794               2888       2926    2188    2470   \n",
              "145              18688               6089       6134    5243    5680   \n",
              "\n",
              "     Units Sold       Revenue  month     productId    Rating  emotion-int  \\\n",
              "155        5580  1.366605e+10     78  8.540363e+08  4.891599     0.542683   \n",
              "172        4302  1.090847e+10     78  8.788689e+08  4.888889     0.513889   \n",
              "209        3704  6.989100e+09     78  1.071274e+09  4.914062     0.597656   \n",
              "200        2504  1.892271e+09     78  1.020164e+09  4.844691     0.473851   \n",
              "145        5832  2.036456e+09     78  8.041447e+08  4.882461     0.470156   \n",
              "\n",
              "    _merge  \n",
              "155   both  \n",
              "172   both  \n",
              "209   both  \n",
              "200   both  \n",
              "145   both  "
            ]
          },
          "execution_count": 17,
          "metadata": {},
          "output_type": "execute_result"
        }
      ],
      "source": [
        "df = pd.merge(dfprodperf, dfshipreview, left_on='Product ID', right_on='productId', how='outer', indicator=True)\n",
        "df = df.sort_values(by=['Product Visitors'], ascending=False)\n",
        "print('df.shape', df.shape)\n",
        "df.head()"
      ]
    },
    {
      "cell_type": "code",
      "execution_count": 18,
      "metadata": {
        "colab": {
          "base_uri": "https://localhost:8080/",
          "height": 372
        },
        "id": "foF421DDEURk",
        "outputId": "39127505-9650-4e8d-b19d-b839609b8d20"
      },
      "outputs": [
        {
          "data": {
            "text/html": [
              "<div>\n",
              "<style scoped>\n",
              "    .dataframe tbody tr th:only-of-type {\n",
              "        vertical-align: middle;\n",
              "    }\n",
              "\n",
              "    .dataframe tbody tr th {\n",
              "        vertical-align: top;\n",
              "    }\n",
              "\n",
              "    .dataframe thead th {\n",
              "        text-align: right;\n",
              "    }\n",
              "</style>\n",
              "<table border=\"1\" class=\"dataframe\">\n",
              "  <thead>\n",
              "    <tr style=\"text-align: right;\">\n",
              "      <th></th>\n",
              "      <th>Product Name</th>\n",
              "      <th>Product ID</th>\n",
              "      <th>Product Visitors</th>\n",
              "      <th>Product Pageviews</th>\n",
              "      <th>Add to Cart Visitors</th>\n",
              "      <th>Add to Cart Units</th>\n",
              "      <th>Wishlist Visitors</th>\n",
              "      <th>Wishlists</th>\n",
              "      <th>Buyers</th>\n",
              "      <th>Orders</th>\n",
              "      <th>Units Sold</th>\n",
              "      <th>Revenue</th>\n",
              "      <th>Rating</th>\n",
              "      <th>emotion-int</th>\n",
              "      <th>_merge</th>\n",
              "    </tr>\n",
              "  </thead>\n",
              "  <tbody>\n",
              "    <tr>\n",
              "      <th>155</th>\n",
              "      <td>Nồi chiên không dầu điện tử XL 4.2L, Tefal EY4...</td>\n",
              "      <td>854036295</td>\n",
              "      <td>195526</td>\n",
              "      <td>635372</td>\n",
              "      <td>22228</td>\n",
              "      <td>28778</td>\n",
              "      <td>5859</td>\n",
              "      <td>6065</td>\n",
              "      <td>4826</td>\n",
              "      <td>5547</td>\n",
              "      <td>5580</td>\n",
              "      <td>1.366605e+10</td>\n",
              "      <td>4.891599</td>\n",
              "      <td>0.542683</td>\n",
              "      <td>both</td>\n",
              "    </tr>\n",
              "    <tr>\n",
              "      <th>172</th>\n",
              "      <td>Máy làm sữa hạt, xay sinh tố và nấu đa năng Te...</td>\n",
              "      <td>878868949</td>\n",
              "      <td>150511</td>\n",
              "      <td>454671</td>\n",
              "      <td>12637</td>\n",
              "      <td>16337</td>\n",
              "      <td>4925</td>\n",
              "      <td>5024</td>\n",
              "      <td>3701</td>\n",
              "      <td>4254</td>\n",
              "      <td>4302</td>\n",
              "      <td>1.090847e+10</td>\n",
              "      <td>4.888889</td>\n",
              "      <td>0.513889</td>\n",
              "      <td>both</td>\n",
              "    </tr>\n",
              "    <tr>\n",
              "      <th>209</th>\n",
              "      <td>Nồi chiên không dầu cơ XL 4.2L, Tefal EY201815...</td>\n",
              "      <td>1071274457</td>\n",
              "      <td>149007</td>\n",
              "      <td>459843</td>\n",
              "      <td>14587</td>\n",
              "      <td>18571</td>\n",
              "      <td>4460</td>\n",
              "      <td>4568</td>\n",
              "      <td>3198</td>\n",
              "      <td>3672</td>\n",
              "      <td>3704</td>\n",
              "      <td>6.989100e+09</td>\n",
              "      <td>4.914062</td>\n",
              "      <td>0.597656</td>\n",
              "      <td>both</td>\n",
              "    </tr>\n",
              "    <tr>\n",
              "      <th>200</th>\n",
              "      <td>Bộ 3 nồi chảo chống dính đáy từ cao cấp Tefal ...</td>\n",
              "      <td>1020164438</td>\n",
              "      <td>148806</td>\n",
              "      <td>365023</td>\n",
              "      <td>6873</td>\n",
              "      <td>8794</td>\n",
              "      <td>2888</td>\n",
              "      <td>2926</td>\n",
              "      <td>2188</td>\n",
              "      <td>2470</td>\n",
              "      <td>2504</td>\n",
              "      <td>1.892271e+09</td>\n",
              "      <td>4.844691</td>\n",
              "      <td>0.473851</td>\n",
              "      <td>both</td>\n",
              "    </tr>\n",
              "    <tr>\n",
              "      <th>145</th>\n",
              "      <td>Bộ 2 chảo chống dính vân đá Tefal Natura, dùng...</td>\n",
              "      <td>804144679</td>\n",
              "      <td>123108</td>\n",
              "      <td>345452</td>\n",
              "      <td>15301</td>\n",
              "      <td>18688</td>\n",
              "      <td>6089</td>\n",
              "      <td>6134</td>\n",
              "      <td>5243</td>\n",
              "      <td>5680</td>\n",
              "      <td>5832</td>\n",
              "      <td>2.036456e+09</td>\n",
              "      <td>4.882461</td>\n",
              "      <td>0.470156</td>\n",
              "      <td>both</td>\n",
              "    </tr>\n",
              "  </tbody>\n",
              "</table>\n",
              "</div>"
            ],
            "text/plain": [
              "                                          Product Name  Product ID  \\\n",
              "155  Nồi chiên không dầu điện tử XL 4.2L, Tefal EY4...   854036295   \n",
              "172  Máy làm sữa hạt, xay sinh tố và nấu đa năng Te...   878868949   \n",
              "209  Nồi chiên không dầu cơ XL 4.2L, Tefal EY201815...  1071274457   \n",
              "200  Bộ 3 nồi chảo chống dính đáy từ cao cấp Tefal ...  1020164438   \n",
              "145  Bộ 2 chảo chống dính vân đá Tefal Natura, dùng...   804144679   \n",
              "\n",
              "     Product Visitors  Product Pageviews  Add to Cart Visitors  \\\n",
              "155            195526             635372                 22228   \n",
              "172            150511             454671                 12637   \n",
              "209            149007             459843                 14587   \n",
              "200            148806             365023                  6873   \n",
              "145            123108             345452                 15301   \n",
              "\n",
              "     Add to Cart Units  Wishlist Visitors  Wishlists  Buyers  Orders  \\\n",
              "155              28778               5859       6065    4826    5547   \n",
              "172              16337               4925       5024    3701    4254   \n",
              "209              18571               4460       4568    3198    3672   \n",
              "200               8794               2888       2926    2188    2470   \n",
              "145              18688               6089       6134    5243    5680   \n",
              "\n",
              "     Units Sold       Revenue    Rating  emotion-int _merge  \n",
              "155        5580  1.366605e+10  4.891599     0.542683   both  \n",
              "172        4302  1.090847e+10  4.888889     0.513889   both  \n",
              "209        3704  6.989100e+09  4.914062     0.597656   both  \n",
              "200        2504  1.892271e+09  4.844691     0.473851   both  \n",
              "145        5832  2.036456e+09  4.882461     0.470156   both  "
            ]
          },
          "execution_count": 18,
          "metadata": {},
          "output_type": "execute_result"
        }
      ],
      "source": [
        "if 'productId' in df.columns: df = df.drop(['productId'], axis='columns')\n",
        "if 'month' in df.columns: df = df.drop(['month'], axis='columns')\n",
        "\n",
        "# Re-order columns\n",
        "first_column = df.pop('Product Name')\n",
        "df.insert(0, 'Product Name', first_column)\n",
        "\n",
        "# Data Imputation\n",
        "cols_missing = ['Rating', 'emotion-int']\n",
        "df[cols_missing] = df[cols_missing].replace(np.NaN, df[cols_missing].median())\n",
        "df.head()"
      ]
    },
    {
      "cell_type": "code",
      "execution_count": 19,
      "metadata": {
        "colab": {
          "base_uri": "https://localhost:8080/"
        },
        "id": "Lr8AgjW_BNGC",
        "outputId": "acd958c1-77f3-44eb-dfd1-ddd4b508e67f"
      },
      "outputs": [
        {
          "name": "stdout",
          "output_type": "stream",
          "text": [
            "both          356\n",
            "left_only     221\n",
            "right_only      0\n",
            "Name: _merge, dtype: int64\n",
            "<class 'pandas.core.frame.DataFrame'>\n",
            "Int64Index: 577 entries, 155 to 268\n",
            "Data columns (total 15 columns):\n",
            " #   Column                Non-Null Count  Dtype   \n",
            "---  ------                --------------  -----   \n",
            " 0   Product Name          577 non-null    object  \n",
            " 1   Product ID            577 non-null    int32   \n",
            " 2   Product Visitors      577 non-null    int64   \n",
            " 3   Product Pageviews     577 non-null    int64   \n",
            " 4   Add to Cart Visitors  577 non-null    int64   \n",
            " 5   Add to Cart Units     577 non-null    int64   \n",
            " 6   Wishlist Visitors     577 non-null    int64   \n",
            " 7   Wishlists             577 non-null    int64   \n",
            " 8   Buyers                577 non-null    int64   \n",
            " 9   Orders                577 non-null    int64   \n",
            " 10  Units Sold            577 non-null    int64   \n",
            " 11  Revenue               577 non-null    float64 \n",
            " 12  Rating                577 non-null    float64 \n",
            " 13  emotion-int           577 non-null    float64 \n",
            " 14  _merge                577 non-null    category\n",
            "dtypes: category(1), float64(3), int32(1), int64(9), object(1)\n",
            "memory usage: 66.1+ KB\n"
          ]
        }
      ],
      "source": [
        "print(df['_merge'].value_counts())\n",
        "df.info()"
      ]
    },
    {
      "cell_type": "code",
      "execution_count": 20,
      "metadata": {
        "id": "WNgqZK10B07K"
      },
      "outputs": [],
      "source": [
        "# Uncomment to save all-merged-df\n",
        "#df.to_csv(f'{__location__}\\data\\\\processed\\Anon-Data-merged-ship-reviewemotion-productperformance.csv')\n",
        "\n",
        "# Uncomment to load all-merged-df\n",
        "#df = pd.read_csv(f'{__location__}\\data\\\\processed\\Anon-Data-merged-ship-reviewemotion-productperformance.csv', converters={'Product ID':str})"
      ]
    },
    {
      "cell_type": "markdown",
      "metadata": {
        "id": "3oJYkFT16GmU"
      },
      "source": [
        "# 3) Initial Model Development"
      ]
    },
    {
      "cell_type": "code",
      "execution_count": 21,
      "metadata": {
        "id": "i045bZkrKt-z"
      },
      "outputs": [],
      "source": [
        "# Additional Features Engineering\n",
        "df['visitors-unitsold'] = df['Product Visitors'] / df['Units Sold'] \n",
        "df['addtocart-unitsold'] = df['Add to Cart Units'] / df['Units Sold']\n",
        "df['wishlists-unitsold'] = df['Wishlists'] / df['Units Sold']\n",
        "df['revenue-visitors'] = df['Revenue'] / df['Product Visitors']\n",
        "df['revenue-wishlists'] = df['Revenue'] / df['Wishlists']    \n",
        "df['revenue-orders'] = df['Revenue'] / df['Orders']    \n",
        "df = df.replace([np.nan, -np.inf, np.inf], 0)"
      ]
    },
    {
      "cell_type": "code",
      "execution_count": 28,
      "metadata": {
        "colab": {
          "base_uri": "https://localhost:8080/"
        },
        "id": "xO1ewl6WHtvC",
        "outputId": "8689a8e0-75af-4672-edcd-b1dd5bedbc9c"
      },
      "outputs": [
        {
          "name": "stdout",
          "output_type": "stream",
          "text": [
            "(432, 17) (145, 17) (432,) (145,)\n"
          ]
        }
      ],
      "source": [
        "# First iteration of all features\n",
        "cols_to_use = ['Product Visitors', 'Product Pageviews', 'Add to Cart Visitors', 'Add to Cart Units', 'Wishlist Visitors', 'Wishlists', 'Buyers', 'Orders', 'Units Sold', 'Rating', 'emotion-int', 'visitors-unitsold', 'addtocart-unitsold', 'wishlists-unitsold', 'revenue-visitors', 'revenue-wishlists', 'revenue-orders']\n",
        "\n",
        "# Testing for subsequent iterations\n",
        "#cols_to_use = ['Product Visitors', 'Add to Cart Visitors', 'Wishlist Visitors', 'Orders', 'Units Sold', 'Rating', 'emotion-int', 'wishlists-unitsold', 'revenue-visitors']\n",
        "\n",
        "X = df[cols_to_use]\n",
        "y = df['Revenue']\n",
        "X_train, X_test, y_train, y_test = train_test_split(X, y, random_state=RANDOM_STATE)\n",
        "print(X_train.shape, X_test.shape, y_train.shape, y_test.shape)"
      ]
    },
    {
      "cell_type": "markdown",
      "metadata": {
        "id": "XRW8lIb6Hlgc"
      },
      "source": [
        "Base Random Forest Model as Baseline"
      ]
    },
    {
      "cell_type": "code",
      "execution_count": 29,
      "metadata": {
        "colab": {
          "base_uri": "https://localhost:8080/"
        },
        "id": "-t5kDIuXIRv3",
        "outputId": "828779b8-ad41-425f-adbf-da95424ff180"
      },
      "outputs": [
        {
          "name": "stdout",
          "output_type": "stream",
          "text": [
            "Root Mean Squared Error (RMSE):353638009\n",
            "R-squared score (training): 0.965\n",
            "R-squared score (test): 0.042\n"
          ]
        }
      ],
      "source": [
        "# Instantiate model\n",
        "rfmodel = RandomForestRegressor(n_estimators=100, max_depth=7, random_state=RANDOM_STATE)\n",
        "\n",
        "# Train the model on training data\n",
        "rfmodel.fit(X_train, y_train)\n",
        "\n",
        "# Predict new data with trained model\n",
        "y_pred = rfmodel.predict(X_test)\n",
        "rmse = metrics.mean_squared_error(y_test, y_pred, squared=False)\n",
        "print('Root Mean Squared Error (RMSE):{:.0f}'.format(rmse))\n",
        "print('R-squared score (training): {:.3f}'.format(rfmodel.score(X_train, y_train)))\n",
        "print('R-squared score (test): {:.3f}'.format(rfmodel.score(X_test, y_test)))"
      ]
    },
    {
      "cell_type": "markdown",
      "metadata": {
        "id": "9cXcscTxaSgI"
      },
      "source": [
        "# 4) Feature Selection"
      ]
    },
    {
      "cell_type": "code",
      "execution_count": 32,
      "metadata": {
        "colab": {
          "base_uri": "https://localhost:8080/",
          "height": 350
        },
        "id": "T-ZN0cx_I75e",
        "outputId": "2f140169-310d-48b4-b350-c1358c9fa5e3"
      },
      "outputs": [
        {
          "data": {
            "image/png": "[encoded data removed]",
            "text/plain": [
              "<Figure size 1152x576 with 1 Axes>"
            ]
          },
          "metadata": {
            "needs_background": "light"
          },
          "output_type": "display_data"
        }
      ],
      "source": [
        "# Get feature importance \n",
        "#Function plots bar and line plot of feature importance \n",
        "def plot_feature_importance(importance,names,model_type):\n",
        "\n",
        "    #Create arrays from feature importance and feature names\n",
        "    feature_importance = np.array(importance)\n",
        "    feature_names = np.array(names)\n",
        "\n",
        "    #Create a DataFrame using a Dictionary\n",
        "    data={'feature_names':feature_names,'feature_importance':feature_importance}\n",
        "    fi_df = pd.DataFrame(data)\n",
        "\n",
        "    #Sort the DataFrame in order decreasing feature importance\n",
        "    fi_df.sort_values(by=['feature_importance'], ascending=False,inplace=True)\n",
        "\n",
        "    #Define size of bar plot\n",
        "    plt.figure(figsize=(16,8))\n",
        "    #Plot Searborn bar chart\n",
        "    sns.barplot(x=fi_df['feature_importance'], y=fi_df['feature_names'], orient='h')\n",
        "    sns.lineplot(x=fi_df['feature_importance'], y=fi_df['feature_names'], color='grey', linewidth=3)\n",
        "    #Add chart labels\n",
        "    plt.title(model_type + 'FEATURE IMPORTANCE')\n",
        "    plt.xlabel('FEATURE IMPORTANCE')\n",
        "    plt.ylabel('FEATURE NAMES')\n",
        "\n",
        "plot_feature_importance(rfmodel.feature_importances_, X_train.columns,'MODEL ')"
      ]
    },
    {
      "cell_type": "code",
      "execution_count": 33,
      "metadata": {
        "colab": {
          "base_uri": "https://localhost:8080/",
          "height": 573
        },
        "id": "ccMeWKBqJB5h",
        "outputId": "31e0c293-2990-4dd5-de08-07465d11dd93"
      },
      "outputs": [
        {
          "data": {
            "image/png": "[encoded data removed]",
            "text/plain": [
              "<Figure size 1008x576 with 2 Axes>"
            ]
          },
          "metadata": {
            "needs_background": "light"
          },
          "output_type": "display_data"
        }
      ],
      "source": [
        "# Get correlations of each features\n",
        "dfcorr_temp = df.copy()\n",
        "dfcorr_temp = dfcorr_temp.drop(['Product ID'], axis='columns')\n",
        "corrmat = dfcorr_temp.corr()\n",
        "top_corr_features = corrmat.index\n",
        "plt.figure(figsize=(14,8))\n",
        "\n",
        "# Plot heat map\n",
        "g = sns.heatmap(dfcorr_temp[top_corr_features].corr(),annot=True,cmap=\"RdYlGn\")"
      ]
    },
    {
      "cell_type": "code",
      "execution_count": 34,
      "metadata": {
        "colab": {
          "base_uri": "https://localhost:8080/",
          "height": 352
        },
        "id": "iD4U_XfhKKnJ",
        "outputId": "1b6375ad-71bd-40f7-8ba1-e6327760c3c0"
      },
      "outputs": [
        {
          "name": "stdout",
          "output_type": "stream",
          "text": [
            "Best alpha using built-in LassoCV: 351157356622.008911\n",
            "Best score using built-in LassoCV: 298247773.622349\n",
            "Lasso picked 5 variables and eliminated the other 12 variables\n"
          ]
        },
        {
          "data": {
            "text/plain": [
              "Text(0.5, 1.0, 'Feature Importance of Model')"
            ]
          },
          "execution_count": 34,
          "metadata": {},
          "output_type": "execute_result"
        },
        {
          "data": {
            "image/png": "[encoded data removed]",
            "text/plain": [
              "<Figure size 864x288 with 1 Axes>"
            ]
          },
          "metadata": {
            "needs_background": "light"
          },
          "output_type": "display_data"
        }
      ],
      "source": [
        "# Feature Selection Using LassoCV\n",
        "# https://towardsdatascience.com/feature-selection-with-pandas-e3690ad8504b\n",
        "\n",
        "reg = LassoCV(cv=5, n_alphas=10, random_state=RANDOM_STATE)\n",
        "reg.fit(X_train, y_train)\n",
        "y_pred = reg.predict(X_test)\n",
        "rmse = metrics.mean_squared_error(y_test, y_pred, squared=False)\n",
        "\n",
        "print(\"Best alpha using built-in LassoCV: %f\" % reg.alpha_)\n",
        "print(\"Best score using built-in LassoCV: %f\" % rmse)\n",
        "\n",
        "coef = pd.Series(reg.coef_, index = X.columns)\n",
        "print(\"Lasso picked \" + str(sum(coef != 0)) + \" variables and eliminated the other \" +  str(sum(coef == 0)) + \" variables\")\n",
        "\n",
        "# Plot visualization\n",
        "imp_coef = coef.sort_values()\n",
        "plt.rcParams['figure.figsize'] = (12, 4)\n",
        "imp_coef.plot(kind = \"barh\")\n",
        "plt.title(\"Feature Importance of Model\")"
      ]
    },
    {
      "cell_type": "markdown",
      "metadata": {
        "id": "hVVlbddB6Gup"
      },
      "source": [
        "# 5) Model Evaluation"
      ]
    },
    {
      "cell_type": "code",
      "execution_count": 35,
      "metadata": {
        "colab": {
          "base_uri": "https://localhost:8080/"
        },
        "id": "iYYJYQbNSZYO",
        "outputId": "79e54cb2-a3f6-43ef-aea5-70e1515464f9"
      },
      "outputs": [
        {
          "name": "stdout",
          "output_type": "stream",
          "text": [
            "R-squared score (training): 0.978\n",
            "R-squared score (test): 0.776\n",
            "Root Mean Squared Error (RMSE):171051855\n"
          ]
        }
      ],
      "source": [
        "# Random Forest Model w feature engineering\n",
        "final_cols_to_use = ['Product Visitors', 'Product Pageviews', 'revenue-orders', 'revenue-visitors', 'addtocart-unitsold', 'emotion-int']\n",
        "X = df[final_cols_to_use]\n",
        "y = df['Revenue']\n",
        "X_train, X_test, y_train, y_test = train_test_split(X, y, random_state=RANDOM_STATE)\n",
        "\n",
        "# Pipeline for scaling and model\n",
        "pipeline = Pipeline([\n",
        "    (\"MinMax Scaling\", MinMaxScaler()), # Scaling\n",
        "    (\"RFmodel\", RandomForestRegressor(n_estimators=100, max_depth=7)) \n",
        "])\n",
        "\n",
        "pipeline.fit(X_train, y_train)\n",
        "\n",
        "# Train the model on training data\n",
        "print('R-squared score (training): {:.3f}'\n",
        "     .format(pipeline.score(X_train, y_train)))\n",
        "print('R-squared score (test): {:.3f}'\n",
        "     .format(pipeline.score(X_test, y_test)))\n",
        "\n",
        "# Predict new data with trained model\n",
        "y_pred = pipeline.predict(X_test)\n",
        "rmse = metrics.mean_squared_error(y_test, y_pred, squared=False)\n",
        "print('Root Mean Squared Error (RMSE):{:.0f}'.format(rmse))\n"
      ]
    },
    {
      "cell_type": "code",
      "execution_count": null,
      "metadata": {
        "colab": {
          "base_uri": "https://localhost:8080/"
        },
        "id": "qpIU7QnQWhkn",
        "outputId": "94895672-9e91-4ee5-f32d-f647b1d6a85e"
      },
      "outputs": [
        {
          "name": "stdout",
          "output_type": "stream",
          "text": [
            "[13:28:51] WARNING: /workspace/src/objective/regression_obj.cu:152: reg:linear is now deprecated in favor of reg:squarederror.\n",
            "R-squared score (training): 1.000\n",
            "R-squared score (test): 0.868\n",
            "Root Mean Squared Error (RMSE):131084379\n"
          ]
        }
      ],
      "source": [
        "# Best Model - XGBoost RF w feature engineering\n",
        "final_cols_to_use = ['Product Visitors', 'Product Pageviews', 'revenue-orders', 'revenue-visitors', 'addtocart-unitsold', 'emotion-int']\n",
        "X = df[final_cols_to_use]\n",
        "y = df['Revenue']\n",
        "X_train, X_test, y_train, y_test = train_test_split(X, y, random_state=RANDOM_STATE)\n",
        "\n",
        "pipeline = Pipeline([\n",
        "    (\"MinMax Scaling\", MinMaxScaler()),\n",
        "    (\"XGmodel\", XGBRegressor(n_estimators=1000, max_depth=7, learning_rate = 0.1))\n",
        "])\n",
        "\n",
        "pipeline.fit(X_train, y_train)\n",
        "\n",
        "# Train the model on training data\n",
        "print('R-squared score (training): {:.3f}'\n",
        "     .format(pipeline.score(X_train, y_train)))\n",
        "print('R-squared score (test): {:.3f}'\n",
        "     .format(pipeline.score(X_test, y_test)))\n",
        "\n",
        "# Predict new data with trained model\n",
        "y_pred = pipeline.predict(X_test)\n",
        "rmse = metrics.mean_squared_error(y_test, y_pred, squared=False)\n",
        "print('Root Mean Squared Error (RMSE):{:.0f}'.format(rmse))\n"
      ]
    },
    {
      "cell_type": "markdown",
      "metadata": {
        "id": "nrl9IpuN7Fb6"
      },
      "source": [
        "# 6) Hyperparameter Tuning"
      ]
    },
    {
      "cell_type": "code",
      "execution_count": 49,
      "metadata": {
        "colab": {
          "base_uri": "https://localhost:8080/",
          "height": 1000,
          "referenced_widgets": [
            "3f38b3a304d34cbab0b550ce9c2a79d3",
            "3ffcd5c01e72470fa26b4a380a86f090",
            "223bec345a8248bfaff97cdf85c7af90",
            "15bd70440c4e4c26bc6f91625fae790f",
            "b8816f0697524cfd92594700d32e2081",
            "71f75771c6174516946b3dfb94a915c9",
            "94c7d51a65994c0d896bc076bdd82785",
            "f2056f75918b41199546f43c0367f4e6",
            "fa941e2668b34b77a1b35a75b021f1ed",
            "e441b10e970d490dbaf66e47ef04727d",
            "3b12d0a4747a4a978bc67184917645be"
          ]
        },
        "id": "lrufDgIA7C0Z",
        "outputId": "fa21ee18-bbda-4942-bd99-d0d0dcd373ee"
      },
      "outputs": [
        {
          "name": "stderr",
          "output_type": "stream",
          "text": [
            "\u001b[32m[I 2022-08-17 22:47:30,519]\u001b[0m A new study created in memory with name: no-name-400e8cf2-b34c-4030-b6c7-d6debf91f153\u001b[0m\n",
            "C:\\Users\\User\\AppData\\Roaming\\Python\\Python310\\site-packages\\optuna\\progress_bar.py:47: ExperimentalWarning: Progress bar is experimental (supported from v1.2.0). The interface can change in the future.\n",
            "  self._init_valid()\n",
            "  1%|          | 1/100 [00:00<00:21,  4.69it/s]"
          ]
        },
        {
          "name": "stdout",
          "output_type": "stream",
          "text": [
            "\u001b[32m[I 2022-08-17 22:47:30,734]\u001b[0m Trial 0 finished with value: 121361891.10540862 and parameters: {'n_estimators': 500, 'max_depth': 3, 'learning_rate': 0.46, 'gamma': 0.8}. Best is trial 0 with value: 121361891.10540862.\u001b[0m\n"
          ]
        },
        {
          "name": "stderr",
          "output_type": "stream",
          "text": [
            "  2%|▏         | 2/100 [00:00<00:27,  3.52it/s]"
          ]
        },
        {
          "name": "stdout",
          "output_type": "stream",
          "text": [
            "\u001b[32m[I 2022-08-17 22:47:31,068]\u001b[0m Trial 1 finished with value: 116075075.98871343 and parameters: {'n_estimators': 354, 'max_depth': 11, 'learning_rate': 0.22, 'gamma': 0.9}. Best is trial 1 with value: 116075075.98871343.\u001b[0m\n"
          ]
        },
        {
          "name": "stderr",
          "output_type": "stream",
          "text": [
            "  3%|▎         | 3/100 [00:00<00:27,  3.59it/s]"
          ]
        },
        {
          "name": "stdout",
          "output_type": "stream",
          "text": [
            "\u001b[32m[I 2022-08-17 22:47:31,340]\u001b[0m Trial 2 finished with value: 121362247.78827596 and parameters: {'n_estimators': 438, 'max_depth': 3, 'learning_rate': 0.46, 'gamma': 0.8}. Best is trial 1 with value: 116075075.98871343.\u001b[0m\n"
          ]
        },
        {
          "name": "stderr",
          "output_type": "stream",
          "text": [
            "  4%|▍         | 4/100 [00:01<00:34,  2.79it/s]"
          ]
        },
        {
          "name": "stdout",
          "output_type": "stream",
          "text": [
            "\u001b[32m[I 2022-08-17 22:47:31,819]\u001b[0m Trial 3 finished with value: 139621652.2784866 and parameters: {'n_estimators': 272, 'max_depth': 15, 'learning_rate': 0.04, 'gamma': 0.4}. Best is trial 1 with value: 116075075.98871343.\u001b[0m\n"
          ]
        },
        {
          "name": "stderr",
          "output_type": "stream",
          "text": [
            "  5%|▌         | 5/100 [00:01<00:35,  2.69it/s]"
          ]
        },
        {
          "name": "stdout",
          "output_type": "stream",
          "text": [
            "\u001b[32m[I 2022-08-17 22:47:32,215]\u001b[0m Trial 4 finished with value: 121302156.12219813 and parameters: {'n_estimators': 339, 'max_depth': 12, 'learning_rate': 0.24, 'gamma': 1.0}. Best is trial 1 with value: 116075075.98871343.\u001b[0m\n"
          ]
        },
        {
          "name": "stderr",
          "output_type": "stream",
          "text": [
            "  6%|▌         | 6/100 [00:02<00:34,  2.69it/s]"
          ]
        },
        {
          "name": "stdout",
          "output_type": "stream",
          "text": [
            "\u001b[32m[I 2022-08-17 22:47:32,585]\u001b[0m Trial 5 finished with value: 116010475.05732474 and parameters: {'n_estimators': 332, 'max_depth': 11, 'learning_rate': 0.2, 'gamma': 0.8}. Best is trial 5 with value: 116010475.05732474.\u001b[0m\n"
          ]
        },
        {
          "name": "stderr",
          "output_type": "stream",
          "text": [
            "  7%|▋         | 7/100 [00:02<00:31,  2.91it/s]"
          ]
        },
        {
          "name": "stdout",
          "output_type": "stream",
          "text": [
            "\u001b[32m[I 2022-08-17 22:47:32,873]\u001b[0m Trial 6 finished with value: 110848211.62201522 and parameters: {'n_estimators': 221, 'max_depth': 15, 'learning_rate': 0.32, 'gamma': 0.5}. Best is trial 6 with value: 110848211.62201522.\u001b[0m\n"
          ]
        },
        {
          "name": "stderr",
          "output_type": "stream",
          "text": [
            "  8%|▊         | 8/100 [00:02<00:27,  3.37it/s]"
          ]
        },
        {
          "name": "stdout",
          "output_type": "stream",
          "text": [
            "\u001b[32m[I 2022-08-17 22:47:33,069]\u001b[0m Trial 7 finished with value: 150218331.84528092 and parameters: {'n_estimators': 138, 'max_depth': 15, 'learning_rate': 0.14, 'gamma': 0.8}. Best is trial 6 with value: 110848211.62201522.\u001b[0m\n"
          ]
        },
        {
          "name": "stderr",
          "output_type": "stream",
          "text": [
            "  9%|▉         | 9/100 [00:02<00:25,  3.63it/s]"
          ]
        },
        {
          "name": "stdout",
          "output_type": "stream",
          "text": [
            "\u001b[32m[I 2022-08-17 22:47:33,297]\u001b[0m Trial 8 finished with value: 114558896.81100522 and parameters: {'n_estimators': 388, 'max_depth': 5, 'learning_rate': 0.34, 'gamma': 0.9}. Best is trial 6 with value: 110848211.62201522.\u001b[0m\n"
          ]
        },
        {
          "name": "stderr",
          "output_type": "stream",
          "text": [
            " 12%|█▏        | 12/100 [00:03<00:15,  5.80it/s]"
          ]
        },
        {
          "name": "stdout",
          "output_type": "stream",
          "text": [
            "\u001b[32m[I 2022-08-17 22:47:33,534]\u001b[0m Trial 9 finished with value: 121322796.6441593 and parameters: {'n_estimators': 257, 'max_depth': 8, 'learning_rate': 0.24, 'gamma': 1.0}. Best is trial 6 with value: 110848211.62201522.\u001b[0m\n",
            "\u001b[32m[I 2022-08-17 22:47:33,563]\u001b[0m Trial 10 finished with value: 114842847.00264011 and parameters: {'n_estimators': 12, 'max_depth': 8, 'learning_rate': 0.34, 'gamma': 0.1}. Best is trial 6 with value: 110848211.62201522.\u001b[0m\n",
            "\u001b[32m[I 2022-08-17 22:47:33,672]\u001b[0m Trial 11 finished with value: 136499840.65252265 and parameters: {'n_estimators': 150, 'max_depth': 6, 'learning_rate': 0.36, 'gamma': 0.5}. Best is trial 6 with value: 110848211.62201522.\u001b[0m\n"
          ]
        },
        {
          "name": "stderr",
          "output_type": "stream",
          "text": [
            " 13%|█▎        | 13/100 [00:03<00:14,  6.19it/s]"
          ]
        },
        {
          "name": "stdout",
          "output_type": "stream",
          "text": [
            "\u001b[32m[I 2022-08-17 22:47:33,801]\u001b[0m Trial 12 finished with value: 136499716.5062271 and parameters: {'n_estimators': 165, 'max_depth': 6, 'learning_rate': 0.36, 'gamma': 0.30000000000000004}. Best is trial 6 with value: 110848211.62201522.\u001b[0m\n"
          ]
        },
        {
          "name": "stderr",
          "output_type": "stream",
          "text": [
            " 14%|█▍        | 14/100 [00:03<00:15,  5.49it/s]"
          ]
        },
        {
          "name": "stdout",
          "output_type": "stream",
          "text": [
            "\u001b[32m[I 2022-08-17 22:47:34,041]\u001b[0m Trial 13 finished with value: 111745005.9928924 and parameters: {'n_estimators': 423, 'max_depth': 5, 'learning_rate': 0.32, 'gamma': 0.6000000000000001}. Best is trial 6 with value: 110848211.62201522.\u001b[0m\n"
          ]
        },
        {
          "name": "stderr",
          "output_type": "stream",
          "text": [
            " 17%|█▋        | 17/100 [00:03<00:12,  6.56it/s]"
          ]
        },
        {
          "name": "stdout",
          "output_type": "stream",
          "text": [
            "\u001b[32m[I 2022-08-17 22:47:34,337]\u001b[0m Trial 14 finished with value: 113561666.92224078 and parameters: {'n_estimators': 216, 'max_depth': 13, 'learning_rate': 0.3, 'gamma': 0.6000000000000001}. Best is trial 6 with value: 110848211.62201522.\u001b[0m\n",
            "\u001b[32m[I 2022-08-17 22:47:34,435]\u001b[0m Trial 15 finished with value: 107299333.91213182 and parameters: {'n_estimators': 61, 'max_depth': 9, 'learning_rate': 0.42, 'gamma': 0.6000000000000001}. Best is trial 15 with value: 107299333.91213182.\u001b[0m\n",
            "\u001b[32m[I 2022-08-17 22:47:34,486]\u001b[0m Trial 16 finished with value: 92619320.7885392 and parameters: {'n_estimators': 33, 'max_depth': 9, 'learning_rate': 0.5, 'gamma': 0.2}. Best is trial 16 with value: 92619320.7885392.\u001b[0m\n",
            "\u001b[32m[I 2022-08-17 22:47:34,508]\u001b[0m Trial 17 finished with value: 138157278.7361555 and parameters: {'n_estimators': 2, 'max_depth': 9, 'learning_rate': 0.5, 'gamma': 0.1}. Best is trial 16 with value: 92619320.7885392.\u001b[0m\n"
          ]
        },
        {
          "name": "stderr",
          "output_type": "stream",
          "text": [
            " 19%|█▉        | 19/100 [00:04<00:09,  8.58it/s]"
          ]
        },
        {
          "name": "stdout",
          "output_type": "stream",
          "text": [
            "\u001b[32m[I 2022-08-17 22:47:34,605]\u001b[0m Trial 18 finished with value: 107027631.19990455 and parameters: {'n_estimators': 71, 'max_depth': 10, 'learning_rate': 0.4, 'gamma': 0.0}. Best is trial 16 with value: 92619320.7885392.\u001b[0m\n",
            "\u001b[32m[I 2022-08-17 22:47:34,729]\u001b[0m Trial 19 finished with value: 106485576.20702137 and parameters: {'n_estimators': 88, 'max_depth': 10, 'learning_rate': 0.42, 'gamma': 0.0}. Best is trial 16 with value: 92619320.7885392.\u001b[0m\n"
          ]
        },
        {
          "name": "stderr",
          "output_type": "stream",
          "text": [
            " 22%|██▏       | 22/100 [00:04<00:09,  8.20it/s]"
          ]
        },
        {
          "name": "stdout",
          "output_type": "stream",
          "text": [
            "\u001b[32m[I 2022-08-17 22:47:34,894]\u001b[0m Trial 20 finished with value: 139623449.47955662 and parameters: {'n_estimators': 95, 'max_depth': 13, 'learning_rate': 0.46, 'gamma': 0.2}. Best is trial 16 with value: 92619320.7885392.\u001b[0m\n",
            "\u001b[32m[I 2022-08-17 22:47:34,998]\u001b[0m Trial 21 finished with value: 107027489.59619905 and parameters: {'n_estimators': 68, 'max_depth': 10, 'learning_rate': 0.4, 'gamma': 0.0}. Best is trial 16 with value: 92619320.7885392.\u001b[0m\n",
            "\u001b[32m[I 2022-08-17 22:47:35,057]\u001b[0m Trial 22 finished with value: 92219603.83631924 and parameters: {'n_estimators': 43, 'max_depth': 8, 'learning_rate': 0.5, 'gamma': 0.0}. Best is trial 22 with value: 92219603.83631924.\u001b[0m\n"
          ]
        },
        {
          "name": "stderr",
          "output_type": "stream",
          "text": [
            " 27%|██▋       | 27/100 [00:04<00:06, 12.02it/s]"
          ]
        },
        {
          "name": "stdout",
          "output_type": "stream",
          "text": [
            "\u001b[32m[I 2022-08-17 22:47:35,169]\u001b[0m Trial 23 finished with value: 95738656.65999472 and parameters: {'n_estimators': 112, 'max_depth': 7, 'learning_rate': 0.5, 'gamma': 0.2}. Best is trial 22 with value: 92219603.83631924.\u001b[0m\n",
            "\u001b[32m[I 2022-08-17 22:47:35,219]\u001b[0m Trial 24 finished with value: 95698352.76121081 and parameters: {'n_estimators': 33, 'max_depth': 7, 'learning_rate': 0.5, 'gamma': 0.2}. Best is trial 22 with value: 92219603.83631924.\u001b[0m\n",
            "\u001b[32m[I 2022-08-17 22:47:35,266]\u001b[0m Trial 25 finished with value: 116187130.24888524 and parameters: {'n_estimators': 33, 'max_depth': 7, 'learning_rate': 0.48, 'gamma': 0.2}. Best is trial 22 with value: 92219603.83631924.\u001b[0m\n",
            "\u001b[32m[I 2022-08-17 22:47:35,322]\u001b[0m Trial 26 finished with value: 387808268.1365013 and parameters: {'n_estimators': 39, 'max_depth': 8, 'learning_rate': 0.0, 'gamma': 0.30000000000000004}. Best is trial 22 with value: 92219603.83631924.\u001b[0m\n"
          ]
        },
        {
          "name": "stderr",
          "output_type": "stream",
          "text": [
            " 29%|██▉       | 29/100 [00:05<00:06, 10.60it/s]"
          ]
        },
        {
          "name": "stdout",
          "output_type": "stream",
          "text": [
            "\u001b[32m[I 2022-08-17 22:47:35,436]\u001b[0m Trial 27 finished with value: 109970059.57788005 and parameters: {'n_estimators': 126, 'max_depth': 7, 'learning_rate': 0.44, 'gamma': 0.1}. Best is trial 22 with value: 92219603.83631924.\u001b[0m\n",
            "\u001b[32m[I 2022-08-17 22:47:35,563]\u001b[0m Trial 28 finished with value: 92016327.9757978 and parameters: {'n_estimators': 184, 'max_depth': 5, 'learning_rate': 0.5, 'gamma': 0.30000000000000004}. Best is trial 28 with value: 92016327.9757978.\u001b[0m\n"
          ]
        },
        {
          "name": "stderr",
          "output_type": "stream",
          "text": [
            " 31%|███       | 31/100 [00:05<00:07,  9.53it/s]"
          ]
        },
        {
          "name": "stdout",
          "output_type": "stream",
          "text": [
            "\u001b[32m[I 2022-08-17 22:47:35,655]\u001b[0m Trial 29 finished with value: 118745726.92561388 and parameters: {'n_estimators': 194, 'max_depth': 3, 'learning_rate': 0.14, 'gamma': 0.30000000000000004}. Best is trial 28 with value: 92016327.9757978.\u001b[0m\n",
            "\u001b[32m[I 2022-08-17 22:47:35,824]\u001b[0m Trial 30 finished with value: 111259315.67445494 and parameters: {'n_estimators': 300, 'max_depth': 4, 'learning_rate': 0.38, 'gamma': 0.4}. Best is trial 28 with value: 92016327.9757978.\u001b[0m\n"
          ]
        },
        {
          "name": "stderr",
          "output_type": "stream",
          "text": [
            " 33%|███▎      | 33/100 [00:05<00:06,  9.79it/s]"
          ]
        },
        {
          "name": "stdout",
          "output_type": "stream",
          "text": [
            "\u001b[32m[I 2022-08-17 22:47:35,871]\u001b[0m Trial 31 finished with value: 92360110.4249197 and parameters: {'n_estimators': 39, 'max_depth': 6, 'learning_rate': 0.5, 'gamma': 0.1}. Best is trial 28 with value: 92016327.9757978.\u001b[0m\n",
            "\u001b[32m[I 2022-08-17 22:47:36,015]\u001b[0m Trial 32 finished with value: 146527243.73066315 and parameters: {'n_estimators': 174, 'max_depth': 5, 'learning_rate': 0.46, 'gamma': 0.1}. Best is trial 28 with value: 92016327.9757978.\u001b[0m\n",
            "\u001b[32m[I 2022-08-17 22:47:36,045]\u001b[0m Trial 33 finished with value: 248552391.8441476 and parameters: {'n_estimators': 1, 'max_depth': 6, 'learning_rate': 0.44, 'gamma': 0.0}. Best is trial 28 with value: 92016327.9757978.\u001b[0m\n"
          ]
        },
        {
          "name": "stderr",
          "output_type": "stream",
          "text": [
            " 35%|███▌      | 35/100 [00:05<00:06, 10.10it/s]"
          ]
        },
        {
          "name": "stdout",
          "output_type": "stream",
          "text": [
            "\u001b[32m[I 2022-08-17 22:47:36,198]\u001b[0m Trial 34 finished with value: 92216992.74739902 and parameters: {'n_estimators': 105, 'max_depth': 8, 'learning_rate': 0.5, 'gamma': 0.4}. Best is trial 28 with value: 92016327.9757978.\u001b[0m\n",
            "\u001b[32m[I 2022-08-17 22:47:36,297]\u001b[0m Trial 35 finished with value: 105959112.55223887 and parameters: {'n_estimators': 111, 'max_depth': 4, 'learning_rate': 0.46, 'gamma': 0.4}. Best is trial 28 with value: 92016327.9757978.\u001b[0m\n"
          ]
        },
        {
          "name": "stderr",
          "output_type": "stream",
          "text": [
            " 37%|███▋      | 37/100 [00:05<00:06,  9.89it/s]"
          ]
        },
        {
          "name": "stdout",
          "output_type": "stream",
          "text": [
            "\u001b[32m[I 2022-08-17 22:47:36,410]\u001b[0m Trial 36 finished with value: 117305001.65386206 and parameters: {'n_estimators': 191, 'max_depth': 4, 'learning_rate': 0.48, 'gamma': 0.4}. Best is trial 28 with value: 92016327.9757978.\u001b[0m\n",
            "\u001b[32m[I 2022-08-17 22:47:36,492]\u001b[0m Trial 37 finished with value: 107382473.75577588 and parameters: {'n_estimators': 95, 'max_depth': 6, 'learning_rate': 0.42, 'gamma': 0.30000000000000004}. Best is trial 28 with value: 92016327.9757978.\u001b[0m\n"
          ]
        },
        {
          "name": "stderr",
          "output_type": "stream",
          "text": [
            " 39%|███▉      | 39/100 [00:06<00:06,  9.80it/s]"
          ]
        },
        {
          "name": "stdout",
          "output_type": "stream",
          "text": [
            "\u001b[32m[I 2022-08-17 22:47:36,619]\u001b[0m Trial 38 finished with value: 117735606.51119979 and parameters: {'n_estimators': 139, 'max_depth': 8, 'learning_rate': 0.28, 'gamma': 0.1}. Best is trial 28 with value: 92016327.9757978.\u001b[0m\n",
            "\u001b[32m[I 2022-08-17 22:47:36,751]\u001b[0m Trial 39 finished with value: 128071521.46179031 and parameters: {'n_estimators': 225, 'max_depth': 5, 'learning_rate': 0.1, 'gamma': 0.4}. Best is trial 28 with value: 92016327.9757978.\u001b[0m\n"
          ]
        },
        {
          "name": "stderr",
          "output_type": "stream",
          "text": [
            " 43%|████▎     | 43/100 [00:06<00:05, 11.19it/s]"
          ]
        },
        {
          "name": "stdout",
          "output_type": "stream",
          "text": [
            "\u001b[32m[I 2022-08-17 22:47:36,842]\u001b[0m Trial 40 finished with value: 116702383.77493349 and parameters: {'n_estimators': 63, 'max_depth': 11, 'learning_rate': 0.48, 'gamma': 0.7000000000000001}. Best is trial 28 with value: 92016327.9757978.\u001b[0m\n",
            "\u001b[32m[I 2022-08-17 22:47:36,908]\u001b[0m Trial 41 finished with value: 92623692.21970828 and parameters: {'n_estimators': 44, 'max_depth': 9, 'learning_rate': 0.5, 'gamma': 0.2}. Best is trial 28 with value: 92016327.9757978.\u001b[0m\n",
            "\u001b[32m[I 2022-08-17 22:47:36,948]\u001b[0m Trial 42 finished with value: 108661615.48032841 and parameters: {'n_estimators': 28, 'max_depth': 8, 'learning_rate': 0.44, 'gamma': 0.30000000000000004}. Best is trial 28 with value: 92016327.9757978.\u001b[0m\n"
          ]
        },
        {
          "name": "stderr",
          "output_type": "stream",
          "text": [
            " 43%|████▎     | 43/100 [00:06<00:05, 11.19it/s]"
          ]
        },
        {
          "name": "stdout",
          "output_type": "stream",
          "text": [
            "\u001b[32m[I 2022-08-17 22:47:37,069]\u001b[0m Trial 43 finished with value: 116540749.87790236 and parameters: {'n_estimators': 89, 'max_depth': 9, 'learning_rate': 0.48, 'gamma': 0.1}. Best is trial 28 with value: 92016327.9757978.\u001b[0m\n"
          ]
        },
        {
          "name": "stderr",
          "output_type": "stream",
          "text": [
            " 47%|████▋     | 47/100 [00:07<00:07,  7.49it/s]"
          ]
        },
        {
          "name": "stdout",
          "output_type": "stream",
          "text": [
            "\u001b[32m[I 2022-08-17 22:47:37,552]\u001b[0m Trial 44 finished with value: 116100943.99611816 and parameters: {'n_estimators': 490, 'max_depth': 7, 'learning_rate': 0.2, 'gamma': 0.2}. Best is trial 28 with value: 92016327.9757978.\u001b[0m\n",
            "\u001b[32m[I 2022-08-17 22:47:37,639]\u001b[0m Trial 45 finished with value: 140412595.87386253 and parameters: {'n_estimators': 62, 'max_depth': 6, 'learning_rate': 0.46, 'gamma': 0.5}. Best is trial 28 with value: 92016327.9757978.\u001b[0m\n",
            "\u001b[32m[I 2022-08-17 22:47:37,727]\u001b[0m Trial 46 finished with value: 88522813.31675394 and parameters: {'n_estimators': 158, 'max_depth': 3, 'learning_rate': 0.5, 'gamma': 0.0}. Best is trial 46 with value: 88522813.31675394.\u001b[0m\n"
          ]
        },
        {
          "name": "stderr",
          "output_type": "stream",
          "text": [
            " 48%|████▊     | 48/100 [00:07<00:06,  7.49it/s]"
          ]
        },
        {
          "name": "stdout",
          "output_type": "stream",
          "text": [
            "\u001b[32m[I 2022-08-17 22:47:37,831]\u001b[0m Trial 47 finished with value: 97051896.04070942 and parameters: {'n_estimators': 151, 'max_depth': 3, 'learning_rate': 0.4, 'gamma': 0.0}. Best is trial 46 with value: 88522813.31675394.\u001b[0m\n",
            "\u001b[32m[I 2022-08-17 22:47:38,018]\u001b[0m Trial 48 finished with value: 115803212.51290664 and parameters: {'n_estimators': 241, 'max_depth': 4, 'learning_rate': 0.44, 'gamma': 0.0}. Best is trial 46 with value: 88522813.31675394.\u001b[0m\n"
          ]
        },
        {
          "name": "stderr",
          "output_type": "stream",
          "text": [
            " 51%|█████     | 51/100 [00:07<00:06,  7.24it/s]"
          ]
        },
        {
          "name": "stdout",
          "output_type": "stream",
          "text": [
            "\u001b[32m[I 2022-08-17 22:47:38,181]\u001b[0m Trial 49 finished with value: 132974391.8840127 and parameters: {'n_estimators': 272, 'max_depth': 3, 'learning_rate': 0.48, 'gamma': 0.1}. Best is trial 46 with value: 88522813.31675394.\u001b[0m\n",
            "\u001b[32m[I 2022-08-17 22:47:38,305]\u001b[0m Trial 50 finished with value: 109568204.4549594 and parameters: {'n_estimators': 169, 'max_depth': 5, 'learning_rate': 0.38, 'gamma': 0.5}. Best is trial 46 with value: 88522813.31675394.\u001b[0m\n"
          ]
        },
        {
          "name": "stderr",
          "output_type": "stream",
          "text": [
            " 53%|█████▎    | 53/100 [00:08<00:06,  6.84it/s]"
          ]
        },
        {
          "name": "stdout",
          "output_type": "stream",
          "text": [
            "\u001b[32m[I 2022-08-17 22:47:38,445]\u001b[0m Trial 51 finished with value: 92216991.96249764 and parameters: {'n_estimators': 120, 'max_depth': 8, 'learning_rate': 0.5, 'gamma': 0.1}. Best is trial 46 with value: 88522813.31675394.\u001b[0m\n",
            "\u001b[32m[I 2022-08-17 22:47:38,615]\u001b[0m Trial 52 finished with value: 92332976.270176 and parameters: {'n_estimators': 185, 'max_depth': 6, 'learning_rate': 0.5, 'gamma': 0.0}. Best is trial 46 with value: 88522813.31675394.\u001b[0m\n"
          ]
        },
        {
          "name": "stderr",
          "output_type": "stream",
          "text": [
            " 55%|█████▌    | 55/100 [00:08<00:06,  6.79it/s]"
          ]
        },
        {
          "name": "stdout",
          "output_type": "stream",
          "text": [
            "\u001b[32m[I 2022-08-17 22:47:38,801]\u001b[0m Trial 53 finished with value: 139626140.3970065 and parameters: {'n_estimators': 197, 'max_depth': 8, 'learning_rate': 0.46, 'gamma': 0.0}. Best is trial 46 with value: 88522813.31675394.\u001b[0m\n",
            "\u001b[32m[I 2022-08-17 22:47:38,924]\u001b[0m Trial 54 finished with value: 92216993.06004265 and parameters: {'n_estimators': 123, 'max_depth': 8, 'learning_rate': 0.5, 'gamma': 0.0}. Best is trial 46 with value: 88522813.31675394.\u001b[0m\n"
          ]
        },
        {
          "name": "stderr",
          "output_type": "stream",
          "text": [
            " 56%|█████▌    | 56/100 [00:08<00:06,  6.91it/s]"
          ]
        },
        {
          "name": "stdout",
          "output_type": "stream",
          "text": [
            "\u001b[32m[I 2022-08-17 22:47:39,062]\u001b[0m Trial 55 finished with value: 116791994.56928964 and parameters: {'n_estimators': 122, 'max_depth': 10, 'learning_rate': 0.48, 'gamma': 0.1}. Best is trial 46 with value: 88522813.31675394.\u001b[0m\n"
          ]
        },
        {
          "name": "stderr",
          "output_type": "stream",
          "text": [
            " 58%|█████▊    | 58/100 [00:08<00:06,  6.64it/s]"
          ]
        },
        {
          "name": "stdout",
          "output_type": "stream",
          "text": [
            "\u001b[32m[I 2022-08-17 22:47:39,240]\u001b[0m Trial 56 finished with value: 108207126.47796904 and parameters: {'n_estimators': 153, 'max_depth': 11, 'learning_rate': 0.44, 'gamma': 0.0}. Best is trial 46 with value: 88522813.31675394.\u001b[0m\n",
            "\u001b[32m[I 2022-08-17 22:47:39,381]\u001b[0m Trial 57 finished with value: 107299133.16996661 and parameters: {'n_estimators': 134, 'max_depth': 9, 'learning_rate': 0.42, 'gamma': 0.0}. Best is trial 46 with value: 88522813.31675394.\u001b[0m\n"
          ]
        },
        {
          "name": "stderr",
          "output_type": "stream",
          "text": [
            " 60%|██████    | 60/100 [00:09<00:05,  7.36it/s]"
          ]
        },
        {
          "name": "stdout",
          "output_type": "stream",
          "text": [
            "\u001b[32m[I 2022-08-17 22:47:39,500]\u001b[0m Trial 58 finished with value: 92216992.6630025 and parameters: {'n_estimators': 106, 'max_depth': 8, 'learning_rate': 0.5, 'gamma': 0.1}. Best is trial 46 with value: 88522813.31675394.\u001b[0m\n",
            "\u001b[32m[I 2022-08-17 22:47:39,623]\u001b[0m Trial 59 finished with value: 116114612.50762254 and parameters: {'n_estimators': 110, 'max_depth': 7, 'learning_rate': 0.48, 'gamma': 0.30000000000000004}. Best is trial 46 with value: 88522813.31675394.\u001b[0m\n"
          ]
        },
        {
          "name": "stderr",
          "output_type": "stream",
          "text": [
            " 62%|██████▏   | 62/100 [00:09<00:06,  6.31it/s]"
          ]
        },
        {
          "name": "stdout",
          "output_type": "stream",
          "text": [
            "\u001b[32m[I 2022-08-17 22:47:39,907]\u001b[0m Trial 60 finished with value: 139630732.0552042 and parameters: {'n_estimators': 209, 'max_depth': 14, 'learning_rate': 0.46, 'gamma': 0.2}. Best is trial 46 with value: 88522813.31675394.\u001b[0m\n",
            "\u001b[32m[I 2022-08-17 22:47:40,016]\u001b[0m Trial 61 finished with value: 92216982.73718381 and parameters: {'n_estimators': 81, 'max_depth': 8, 'learning_rate': 0.5, 'gamma': 0.1}. Best is trial 46 with value: 88522813.31675394.\u001b[0m\n"
          ]
        },
        {
          "name": "stderr",
          "output_type": "stream",
          "text": [
            " 64%|██████▍   | 64/100 [00:09<00:04,  7.54it/s]"
          ]
        },
        {
          "name": "stdout",
          "output_type": "stream",
          "text": [
            "\u001b[32m[I 2022-08-17 22:47:40,107]\u001b[0m Trial 62 finished with value: 92216976.46475592 and parameters: {'n_estimators': 84, 'max_depth': 8, 'learning_rate': 0.5, 'gamma': 0.1}. Best is trial 46 with value: 88522813.31675394.\u001b[0m\n",
            "\u001b[32m[I 2022-08-17 22:47:40,220]\u001b[0m Trial 63 finished with value: 116791978.98100209 and parameters: {'n_estimators': 82, 'max_depth': 10, 'learning_rate': 0.48, 'gamma': 0.1}. Best is trial 46 with value: 88522813.31675394.\u001b[0m\n"
          ]
        },
        {
          "name": "stderr",
          "output_type": "stream",
          "text": [
            " 65%|██████▌   | 65/100 [00:09<00:04,  7.73it/s]"
          ]
        },
        {
          "name": "stdout",
          "output_type": "stream",
          "text": [
            "\u001b[32m[I 2022-08-17 22:47:40,339]\u001b[0m Trial 64 finished with value: 139551379.2353574 and parameters: {'n_estimators': 101, 'max_depth': 9, 'learning_rate': 0.46, 'gamma': 0.2}. Best is trial 46 with value: 88522813.31675394.\u001b[0m\n",
            "\u001b[32m[I 2022-08-17 22:47:40,425]\u001b[0m Trial 65 finished with value: 95738273.18555339 and parameters: {'n_estimators': 77, 'max_depth': 7, 'learning_rate': 0.5, 'gamma': 0.1}. Best is trial 46 with value: 88522813.31675394.\u001b[0m\n"
          ]
        },
        {
          "name": "stderr",
          "output_type": "stream",
          "text": [
            " 68%|██████▊   | 68/100 [00:10<00:03,  8.15it/s]"
          ]
        },
        {
          "name": "stdout",
          "output_type": "stream",
          "text": [
            "\u001b[32m[I 2022-08-17 22:47:40,564]\u001b[0m Trial 66 finished with value: 107328209.8005274 and parameters: {'n_estimators': 155, 'max_depth': 8, 'learning_rate': 0.42, 'gamma': 0.5}. Best is trial 46 with value: 88522813.31675394.\u001b[0m\n",
            "\u001b[32m[I 2022-08-17 22:47:40,688]\u001b[0m Trial 67 finished with value: 109970081.18721698 and parameters: {'n_estimators': 141, 'max_depth': 7, 'learning_rate': 0.44, 'gamma': 0.2}. Best is trial 46 with value: 88522813.31675394.\u001b[0m\n"
          ]
        },
        {
          "name": "stderr",
          "output_type": "stream",
          "text": [
            " 70%|███████   | 70/100 [00:10<00:03,  7.90it/s]"
          ]
        },
        {
          "name": "stdout",
          "output_type": "stream",
          "text": [
            "\u001b[32m[I 2022-08-17 22:47:40,831]\u001b[0m Trial 68 finished with value: 93000004.6191094 and parameters: {'n_estimators': 107, 'max_depth': 12, 'learning_rate': 0.5, 'gamma': 0.30000000000000004}. Best is trial 46 with value: 88522813.31675394.\u001b[0m\n",
            "\u001b[32m[I 2022-08-17 22:47:40,955]\u001b[0m Trial 69 finished with value: 116540746.51174913 and parameters: {'n_estimators': 125, 'max_depth': 9, 'learning_rate': 0.48, 'gamma': 0.1}. Best is trial 46 with value: 88522813.31675394.\u001b[0m\n"
          ]
        },
        {
          "name": "stderr",
          "output_type": "stream",
          "text": [
            " 72%|███████▏  | 72/100 [00:10<00:03,  8.96it/s]"
          ]
        },
        {
          "name": "stdout",
          "output_type": "stream",
          "text": [
            "\u001b[32m[I 2022-08-17 22:47:41,019]\u001b[0m Trial 70 finished with value: 107571358.89508103 and parameters: {'n_estimators': 56, 'max_depth': 8, 'learning_rate': 0.4, 'gamma': 0.4}. Best is trial 46 with value: 88522813.31675394.\u001b[0m\n",
            "\u001b[32m[I 2022-08-17 22:47:41,137]\u001b[0m Trial 71 finished with value: 92216991.83025415 and parameters: {'n_estimators': 121, 'max_depth': 8, 'learning_rate': 0.5, 'gamma': 0.1}. Best is trial 46 with value: 88522813.31675394.\u001b[0m\n"
          ]
        },
        {
          "name": "stderr",
          "output_type": "stream",
          "text": [
            " 74%|███████▍  | 74/100 [00:10<00:03,  7.48it/s]"
          ]
        },
        {
          "name": "stdout",
          "output_type": "stream",
          "text": [
            "\u001b[32m[I 2022-08-17 22:47:41,306]\u001b[0m Trial 72 finished with value: 92216988.6021104 and parameters: {'n_estimators': 162, 'max_depth': 8, 'learning_rate': 0.5, 'gamma': 0.1}. Best is trial 46 with value: 88522813.31675394.\u001b[0m\n",
            "\u001b[32m[I 2022-08-17 22:47:41,466]\u001b[0m Trial 73 finished with value: 137183148.76776963 and parameters: {'n_estimators': 178, 'max_depth': 7, 'learning_rate': 0.46, 'gamma': 0.1}. Best is trial 46 with value: 88522813.31675394.\u001b[0m\n"
          ]
        },
        {
          "name": "stderr",
          "output_type": "stream",
          "text": [
            " 76%|███████▌  | 76/100 [00:11<00:03,  6.74it/s]"
          ]
        },
        {
          "name": "stdout",
          "output_type": "stream",
          "text": [
            "\u001b[32m[I 2022-08-17 22:47:41,648]\u001b[0m Trial 74 finished with value: 120857995.30443448 and parameters: {'n_estimators': 170, 'max_depth': 9, 'learning_rate': 0.26, 'gamma': 0.2}. Best is trial 46 with value: 88522813.31675394.\u001b[0m\n",
            "\u001b[32m[I 2022-08-17 22:47:41,803]\u001b[0m Trial 75 finished with value: 116301435.9376543 and parameters: {'n_estimators': 160, 'max_depth': 8, 'learning_rate': 0.48, 'gamma': 0.1}. Best is trial 46 with value: 88522813.31675394.\u001b[0m\n"
          ]
        },
        {
          "name": "stderr",
          "output_type": "stream",
          "text": [
            " 78%|███████▊  | 78/100 [00:11<00:03,  7.32it/s]"
          ]
        },
        {
          "name": "stdout",
          "output_type": "stream",
          "text": [
            "\u001b[32m[I 2022-08-17 22:47:41,918]\u001b[0m Trial 76 finished with value: 92017142.9620226 and parameters: {'n_estimators': 139, 'max_depth': 5, 'learning_rate': 0.5, 'gamma': 0.1}. Best is trial 46 with value: 88522813.31675394.\u001b[0m\n",
            "\u001b[32m[I 2022-08-17 22:47:42,049]\u001b[0m Trial 77 finished with value: 146527190.58612406 and parameters: {'n_estimators': 205, 'max_depth': 5, 'learning_rate': 0.46, 'gamma': 0.0}. Best is trial 46 with value: 88522813.31675394.\u001b[0m\n"
          ]
        },
        {
          "name": "stderr",
          "output_type": "stream",
          "text": [
            " 80%|████████  | 80/100 [00:11<00:02,  8.16it/s]"
          ]
        },
        {
          "name": "stdout",
          "output_type": "stream",
          "text": [
            "\u001b[32m[I 2022-08-17 22:47:42,127]\u001b[0m Trial 78 finished with value: 103042797.71267879 and parameters: {'n_estimators': 142, 'max_depth': 3, 'learning_rate': 0.44, 'gamma': 0.2}. Best is trial 46 with value: 88522813.31675394.\u001b[0m\n",
            "\u001b[32m[I 2022-08-17 22:47:42,258]\u001b[0m Trial 79 finished with value: 90142872.1021661 and parameters: {'n_estimators': 235, 'max_depth': 4, 'learning_rate': 0.5, 'gamma': 0.1}. Best is trial 46 with value: 88522813.31675394.\u001b[0m\n"
          ]
        },
        {
          "name": "stderr",
          "output_type": "stream",
          "text": [
            " 82%|████████▏ | 82/100 [00:12<00:02,  7.34it/s]"
          ]
        },
        {
          "name": "stdout",
          "output_type": "stream",
          "text": [
            "\u001b[32m[I 2022-08-17 22:47:42,395]\u001b[0m Trial 80 finished with value: 117305247.91226068 and parameters: {'n_estimators': 225, 'max_depth': 4, 'learning_rate': 0.48, 'gamma': 0.1}. Best is trial 46 with value: 88522813.31675394.\u001b[0m\n",
            "\u001b[32m[I 2022-08-17 22:47:42,560]\u001b[0m Trial 81 finished with value: 90142484.97194384 and parameters: {'n_estimators': 320, 'max_depth': 4, 'learning_rate': 0.5, 'gamma': 0.1}. Best is trial 46 with value: 88522813.31675394.\u001b[0m\n"
          ]
        },
        {
          "name": "stderr",
          "output_type": "stream",
          "text": [
            " 84%|████████▍ | 84/100 [00:12<00:02,  6.36it/s]"
          ]
        },
        {
          "name": "stdout",
          "output_type": "stream",
          "text": [
            "\u001b[32m[I 2022-08-17 22:47:42,741]\u001b[0m Trial 82 finished with value: 90142471.68793903 and parameters: {'n_estimators': 341, 'max_depth': 4, 'learning_rate': 0.5, 'gamma': 0.1}. Best is trial 46 with value: 88522813.31675394.\u001b[0m\n",
            "\u001b[32m[I 2022-08-17 22:47:42,922]\u001b[0m Trial 83 finished with value: 117304370.98599741 and parameters: {'n_estimators': 358, 'max_depth': 4, 'learning_rate': 0.48, 'gamma': 0.9}. Best is trial 46 with value: 88522813.31675394.\u001b[0m\n"
          ]
        },
        {
          "name": "stderr",
          "output_type": "stream",
          "text": [
            " 85%|████████▌ | 85/100 [00:12<00:02,  6.54it/s]"
          ]
        },
        {
          "name": "stdout",
          "output_type": "stream",
          "text": [
            "\u001b[32m[I 2022-08-17 22:47:43,065]\u001b[0m Trial 84 finished with value: 113418917.73169391 and parameters: {'n_estimators': 322, 'max_depth': 3, 'learning_rate': 0.12, 'gamma': 0.0}. Best is trial 46 with value: 88522813.31675394.\u001b[0m\n"
          ]
        },
        {
          "name": "stderr",
          "output_type": "stream",
          "text": [
            " 87%|████████▋ | 87/100 [00:12<00:02,  6.09it/s]"
          ]
        },
        {
          "name": "stdout",
          "output_type": "stream",
          "text": [
            "\u001b[32m[I 2022-08-17 22:47:43,271]\u001b[0m Trial 85 finished with value: 118106407.67028925 and parameters: {'n_estimators': 391, 'max_depth': 4, 'learning_rate': 0.2, 'gamma': 0.2}. Best is trial 46 with value: 88522813.31675394.\u001b[0m\n",
            "\u001b[32m[I 2022-08-17 22:47:43,424]\u001b[0m Trial 86 finished with value: 136809028.76639318 and parameters: {'n_estimators': 285, 'max_depth': 4, 'learning_rate': 0.06, 'gamma': 0.1}. Best is trial 46 with value: 88522813.31675394.\u001b[0m\n"
          ]
        },
        {
          "name": "stderr",
          "output_type": "stream",
          "text": [
            " 89%|████████▉ | 89/100 [00:13<00:01,  6.48it/s]"
          ]
        },
        {
          "name": "stdout",
          "output_type": "stream",
          "text": [
            "\u001b[32m[I 2022-08-17 22:47:43,580]\u001b[0m Trial 87 finished with value: 146527165.81463897 and parameters: {'n_estimators': 251, 'max_depth': 5, 'learning_rate': 0.46, 'gamma': 1.0}. Best is trial 46 with value: 88522813.31675394.\u001b[0m\n",
            "\u001b[32m[I 2022-08-17 22:47:43,717]\u001b[0m Trial 88 finished with value: 88461060.12253188 and parameters: {'n_estimators': 317, 'max_depth': 3, 'learning_rate': 0.5, 'gamma': 0.0}. Best is trial 88 with value: 88461060.12253188.\u001b[0m\n"
          ]
        },
        {
          "name": "stderr",
          "output_type": "stream",
          "text": [
            " 90%|█████████ | 90/100 [00:13<00:01,  6.56it/s]"
          ]
        },
        {
          "name": "stdout",
          "output_type": "stream",
          "text": [
            "\u001b[32m[I 2022-08-17 22:47:43,865]\u001b[0m Trial 89 finished with value: 132974793.62659094 and parameters: {'n_estimators': 324, 'max_depth': 3, 'learning_rate': 0.48, 'gamma': 0.0}. Best is trial 88 with value: 88461060.12253188.\u001b[0m\n"
          ]
        },
        {
          "name": "stderr",
          "output_type": "stream",
          "text": [
            " 92%|█████████▏| 92/100 [00:13<00:01,  5.83it/s]"
          ]
        },
        {
          "name": "stdout",
          "output_type": "stream",
          "text": [
            "\u001b[32m[I 2022-08-17 22:47:44,073]\u001b[0m Trial 90 finished with value: 114732134.20703655 and parameters: {'n_estimators': 362, 'max_depth': 5, 'learning_rate': 0.44, 'gamma': 0.0}. Best is trial 88 with value: 88461060.12253188.\u001b[0m\n",
            "\u001b[32m[I 2022-08-17 22:47:44,250]\u001b[0m Trial 91 finished with value: 90142458.75985701 and parameters: {'n_estimators': 343, 'max_depth': 4, 'learning_rate': 0.5, 'gamma': 0.1}. Best is trial 88 with value: 88461060.12253188.\u001b[0m\n"
          ]
        },
        {
          "name": "stderr",
          "output_type": "stream",
          "text": [
            " 93%|█████████▎| 93/100 [00:13<00:01,  5.75it/s]"
          ]
        },
        {
          "name": "stdout",
          "output_type": "stream",
          "text": [
            "\u001b[32m[I 2022-08-17 22:47:44,430]\u001b[0m Trial 92 finished with value: 90142459.28340018 and parameters: {'n_estimators': 345, 'max_depth': 4, 'learning_rate': 0.5, 'gamma': 0.0}. Best is trial 88 with value: 88461060.12253188.\u001b[0m\n"
          ]
        },
        {
          "name": "stderr",
          "output_type": "stream",
          "text": [
            " 95%|█████████▌| 95/100 [00:14<00:00,  5.70it/s]"
          ]
        },
        {
          "name": "stdout",
          "output_type": "stream",
          "text": [
            "\u001b[32m[I 2022-08-17 22:47:44,624]\u001b[0m Trial 93 finished with value: 117304412.28204568 and parameters: {'n_estimators': 345, 'max_depth': 4, 'learning_rate': 0.48, 'gamma': 0.0}. Best is trial 88 with value: 88461060.12253188.\u001b[0m\n",
            "\u001b[32m[I 2022-08-17 22:47:44,789]\u001b[0m Trial 94 finished with value: 88456176.01205395 and parameters: {'n_estimators': 375, 'max_depth': 3, 'learning_rate': 0.5, 'gamma': 0.0}. Best is trial 94 with value: 88456176.01205395.\u001b[0m\n"
          ]
        },
        {
          "name": "stderr",
          "output_type": "stream",
          "text": [
            " 97%|█████████▋| 97/100 [00:14<00:00,  6.19it/s]"
          ]
        },
        {
          "name": "stdout",
          "output_type": "stream",
          "text": [
            "\u001b[32m[I 2022-08-17 22:47:44,960]\u001b[0m Trial 95 finished with value: 121361285.47566484 and parameters: {'n_estimators': 382, 'max_depth': 3, 'learning_rate': 0.46, 'gamma': 0.0}. Best is trial 94 with value: 88456176.01205395.\u001b[0m\n",
            "\u001b[32m[I 2022-08-17 22:47:45,091]\u001b[0m Trial 96 finished with value: 132974847.2144292 and parameters: {'n_estimators': 298, 'max_depth': 3, 'learning_rate': 0.48, 'gamma': 0.0}. Best is trial 94 with value: 88456176.01205395.\u001b[0m\n"
          ]
        },
        {
          "name": "stderr",
          "output_type": "stream",
          "text": [
            " 98%|█████████▊| 98/100 [00:14<00:00,  5.87it/s]"
          ]
        },
        {
          "name": "stdout",
          "output_type": "stream",
          "text": [
            "\u001b[32m[I 2022-08-17 22:47:45,285]\u001b[0m Trial 97 finished with value: 90142481.40914118 and parameters: {'n_estimators': 374, 'max_depth': 4, 'learning_rate': 0.5, 'gamma': 0.0}. Best is trial 94 with value: 88456176.01205395.\u001b[0m\n"
          ]
        },
        {
          "name": "stderr",
          "output_type": "stream",
          "text": [
            " 99%|█████████▉| 99/100 [00:14<00:00,  5.60it/s]"
          ]
        },
        {
          "name": "stdout",
          "output_type": "stream",
          "text": [
            "\u001b[32m[I 2022-08-17 22:47:45,481]\u001b[0m Trial 98 finished with value: 105970993.7771264 and parameters: {'n_estimators': 372, 'max_depth': 4, 'learning_rate': 0.46, 'gamma': 0.0}. Best is trial 94 with value: 88456176.01205395.\u001b[0m\n"
          ]
        },
        {
          "name": "stderr",
          "output_type": "stream",
          "text": [
            "100%|██████████| 100/100 [00:15<00:00,  6.60it/s]"
          ]
        },
        {
          "name": "stdout",
          "output_type": "stream",
          "text": [
            "\u001b[32m[I 2022-08-17 22:47:45,665]\u001b[0m Trial 99 finished with value: 88457626.07693373 and parameters: {'n_estimators': 410, 'max_depth': 3, 'learning_rate': 0.5, 'gamma': 0.0}. Best is trial 94 with value: 88456176.01205395.\u001b[0m\n",
            "Best RMSE: 88456176.01205395  | Best hyperparameters: {'n_estimators': 375, 'max_depth': 3, 'learning_rate': 0.5, 'gamma': 0.0}\n"
          ]
        },
        {
          "name": "stderr",
          "output_type": "stream",
          "text": [
            "\n"
          ]
        }
      ],
      "source": [
        "# Hyperparameter tuning using Optuna\n",
        "def objective(trial):\n",
        "\n",
        "      final_cols_to_use = ['Product Visitors', 'Product Pageviews', 'revenue-orders', 'revenue-visitors', 'addtocart-unitsold', 'emotion-int']\n",
        "      X = df[final_cols_to_use]\n",
        "      y = df['Revenue']\n",
        "      X_train, X_test, y_train, y_test = train_test_split(X, y, random_state=RANDOM_STATE)\n",
        "\n",
        "      # Define scaler\n",
        "      scaler = MinMaxScaler()\n",
        "    \n",
        "      # Define hyperparameters\n",
        "      n_estimators = trial.suggest_int('n_estimators', 1, 500)\n",
        "      max_depth = trial.suggest_int('max_depth', 3, 15)\n",
        "      learning_rate = trial.suggest_float('learning_rate', 0.0, 0.5, step=0.02)\n",
        "      gamma = trial.suggest_float('gamma', 0, 1, step=0.1)\n",
        "\n",
        "      # Train and evaluate\n",
        "      model = XGBRegressor(\n",
        "          n_estimators=n_estimators, \n",
        "          max_depth=max_depth,\n",
        "          learning_rate=learning_rate,\n",
        "          gamma=gamma,\n",
        "          subsample=1,\n",
        "          colsample_bytree=1,\n",
        "          max_delta_step=0,\n",
        "          random_state=RANDOM_STATE)\n",
        "      \n",
        "      # Make a pipeline\n",
        "      pipeline = make_pipeline(scaler, model)\n",
        "      \n",
        "      # Evaluation\n",
        "      model.fit(X_train, y_train)\n",
        "      y_pred = model.predict(X_test)\n",
        "      rmse = metrics.mean_squared_error(y_test, y_pred, squared=False)\n",
        "      return rmse\n",
        "\n",
        "\n",
        "study = optuna.create_study(\n",
        "              direction='minimize', \n",
        "              pruner=optuna.pruners.MedianPruner())\n",
        "study.optimize(objective, \n",
        "               n_trials=100, \n",
        "               show_progress_bar=True)\n",
        "\n",
        "trial = study.best_trial\n",
        "print('Best RMSE: {}'.format(trial.value), \" | Best hyperparameters: {}\".format(trial.params))"
      ]
    },
    {
      "cell_type": "code",
      "execution_count": 4,
      "metadata": {
        "colab": {
          "base_uri": "https://localhost:8080/",
          "height": 542
        },
        "id": "wwuza9nBaqmg",
        "outputId": "ca1ad533-a1db-430f-bed9-d832c200554a"
      },
      "outputs": [],
      "source": [
        "optuna.visualization.plot_optimization_history(study)"
      ]
    },
    {
      "cell_type": "code",
      "execution_count": 5,
      "metadata": {
        "colab": {
          "base_uri": "https://localhost:8080/",
          "height": 542
        },
        "id": "iLPkX3j8dZbH",
        "outputId": "6b17d0a6-b817-4407-e286-ce1a0e61d591"
      },
      "outputs": [],
      "source": [
        "optuna.visualization.plot_parallel_coordinate(study)"
      ]
    },
    {
      "cell_type": "code",
      "execution_count": null,
      "metadata": {
        "id": "wZRws7j4eWf7"
      },
      "outputs": [],
      "source": []
    },
    {
      "cell_type": "markdown",
      "metadata": {
        "id": "QV7gSK8Aohc1"
      },
      "source": [
        "# 7) Saving Final Model"
      ]
    },
    {
      "cell_type": "code",
      "execution_count": 51,
      "metadata": {
        "colab": {
          "base_uri": "https://localhost:8080/"
        },
        "id": "UxWdVAgdok9e",
        "outputId": "72a9c9a5-a825-4252-e52c-09a4c9abf217"
      },
      "outputs": [
        {
          "name": "stdout",
          "output_type": "stream",
          "text": [
            "R-squared score (training): 1.000\n",
            "R-squared score (test): 0.940\n",
            "Root Mean Squared Error (RMSE):88456176\n"
          ]
        }
      ],
      "source": [
        "# Final model - XGBoost RF with feature engineering and tuning\n",
        "final_cols_to_use = ['Product Visitors', 'Product Pageviews', 'revenue-orders', 'revenue-visitors', 'addtocart-unitsold', 'emotion-int']\n",
        "X = df[final_cols_to_use]\n",
        "y = df['Revenue']\n",
        "X_train, X_test, y_train, y_test = train_test_split(X, y, random_state=RANDOM_STATE)\n",
        "\n",
        "pipeline = Pipeline([\n",
        "    (\"MinMax Scaling\", MinMaxScaler()),\n",
        "    (\"XGmodel\", XGBRegressor(n_estimators=375, \n",
        "                             max_depth=3, \n",
        "                             learning_rate = 0.50,\n",
        "                             gamma=0.0))\n",
        "])\n",
        "\n",
        "pipeline.fit(X_train, y_train)\n",
        "\n",
        "# Train the model on training data\n",
        "print('R-squared score (training): {:.3f}'.format(pipeline.score(X_train, y_train)))\n",
        "print('R-squared score (test): {:.3f}'.format(pipeline.score(X_test, y_test)))\n",
        "# Predict new data with trained model\n",
        "y_pred = pipeline.predict(X_test)\n",
        "rmse = metrics.mean_squared_error(y_test, y_pred, squared=False)\n",
        "print('Root Mean Squared Error (RMSE):{:.0f}'.format(rmse))\n"
      ]
    },
    {
      "cell_type": "code",
      "execution_count": 52,
      "metadata": {
        "id": "CrjiWXtObiHA"
      },
      "outputs": [
        {
          "name": "stdout",
          "output_type": "stream",
          "text": [
            "Save completed\n"
          ]
        }
      ],
      "source": [
        "# Save final model to disk as 'predictive-final-model.sav'\n",
        "\n",
        "# Uncomment to save model if model has been changed\n",
        "#filename = 'predictive-final-model.sav'\n",
        "#pickle.dump(pipeline, open(filename, 'wb'))\n",
        "#print('Save completed')"
      ]
    },
    {
      "cell_type": "code",
      "execution_count": 53,
      "metadata": {
        "id": "8s_az73WsgaP"
      },
      "outputs": [
        {
          "name": "stdout",
          "output_type": "stream",
          "text": [
            "Load completed\n"
          ]
        }
      ],
      "source": [
        "# Uncomment to load saved model from disk\n",
        "\n",
        "#loaded_model = pickle.load(open(filename, 'rb'))\n",
        "#print('Load completed')"
      ]
    },
    {
      "cell_type": "code",
      "execution_count": null,
      "metadata": {},
      "outputs": [],
      "source": []
    }
  ],
  "metadata": {
    "colab": {
      "collapsed_sections": [],
      "name": "Model-Shipping-ProductPerformance-ReviewEmotion.ipynb",
      "provenance": []
    },
    "interpreter": {
      "hash": "9b4d75ac280b6c7c3aa43866cb82dc88915409b55fec83a093dd0284cb58708e"
    },
    "kernelspec": {
      "display_name": "Python 3.10.4 64-bit",
      "language": "python",
      "name": "python3"
    },
    "language_info": {
      "codemirror_mode": {
        "name": "ipython",
        "version": 3
      },
      "file_extension": ".py",
      "mimetype": "text/x-python",
      "name": "python",
      "nbconvert_exporter": "python",
      "pygments_lexer": "ipython3",
      "version": "3.10.4"
    },
    "widgets": {
      "application/vnd.jupyter.widget-state+json": {
        "15bd70440c4e4c26bc6f91625fae790f": {
          "model_module": "@jupyter-widgets/controls",
          "model_module_version": "1.5.0",
          "model_name": "HTMLModel",
          "state": {
            "_dom_classes": [],
            "_model_module": "@jupyter-widgets/controls",
            "_model_module_version": "1.5.0",
            "_model_name": "HTMLModel",
            "_view_count": null,
            "_view_module": "@jupyter-widgets/controls",
            "_view_module_version": "1.5.0",
            "_view_name": "HTMLView",
            "description": "",
            "description_tooltip": null,
            "layout": "IPY_MODEL_e441b10e970d490dbaf66e47ef04727d",
            "placeholder": "​",
            "style": "IPY_MODEL_3b12d0a4747a4a978bc67184917645be",
            "value": " 100/100 [00:18&lt;00:00,  4.49it/s]"
          }
        },
        "223bec345a8248bfaff97cdf85c7af90": {
          "model_module": "@jupyter-widgets/controls",
          "model_module_version": "1.5.0",
          "model_name": "FloatProgressModel",
          "state": {
            "_dom_classes": [],
            "_model_module": "@jupyter-widgets/controls",
            "_model_module_version": "1.5.0",
            "_model_name": "FloatProgressModel",
            "_view_count": null,
            "_view_module": "@jupyter-widgets/controls",
            "_view_module_version": "1.5.0",
            "_view_name": "ProgressView",
            "bar_style": "success",
            "description": "",
            "description_tooltip": null,
            "layout": "IPY_MODEL_f2056f75918b41199546f43c0367f4e6",
            "max": 100,
            "min": 0,
            "orientation": "horizontal",
            "style": "IPY_MODEL_fa941e2668b34b77a1b35a75b021f1ed",
            "value": 100
          }
        },
        "3b12d0a4747a4a978bc67184917645be": {
          "model_module": "@jupyter-widgets/controls",
          "model_module_version": "1.5.0",
          "model_name": "DescriptionStyleModel",
          "state": {
            "_model_module": "@jupyter-widgets/controls",
            "_model_module_version": "1.5.0",
            "_model_name": "DescriptionStyleModel",
            "_view_count": null,
            "_view_module": "@jupyter-widgets/base",
            "_view_module_version": "1.2.0",
            "_view_name": "StyleView",
            "description_width": ""
          }
        },
        "3f38b3a304d34cbab0b550ce9c2a79d3": {
          "model_module": "@jupyter-widgets/controls",
          "model_module_version": "1.5.0",
          "model_name": "HBoxModel",
          "state": {
            "_dom_classes": [],
            "_model_module": "@jupyter-widgets/controls",
            "_model_module_version": "1.5.0",
            "_model_name": "HBoxModel",
            "_view_count": null,
            "_view_module": "@jupyter-widgets/controls",
            "_view_module_version": "1.5.0",
            "_view_name": "HBoxView",
            "box_style": "",
            "children": [
              "IPY_MODEL_3ffcd5c01e72470fa26b4a380a86f090",
              "IPY_MODEL_223bec345a8248bfaff97cdf85c7af90",
              "IPY_MODEL_15bd70440c4e4c26bc6f91625fae790f"
            ],
            "layout": "IPY_MODEL_b8816f0697524cfd92594700d32e2081"
          }
        },
        "3ffcd5c01e72470fa26b4a380a86f090": {
          "model_module": "@jupyter-widgets/controls",
          "model_module_version": "1.5.0",
          "model_name": "HTMLModel",
          "state": {
            "_dom_classes": [],
            "_model_module": "@jupyter-widgets/controls",
            "_model_module_version": "1.5.0",
            "_model_name": "HTMLModel",
            "_view_count": null,
            "_view_module": "@jupyter-widgets/controls",
            "_view_module_version": "1.5.0",
            "_view_name": "HTMLView",
            "description": "",
            "description_tooltip": null,
            "layout": "IPY_MODEL_71f75771c6174516946b3dfb94a915c9",
            "placeholder": "​",
            "style": "IPY_MODEL_94c7d51a65994c0d896bc076bdd82785",
            "value": "100%"
          }
        },
        "71f75771c6174516946b3dfb94a915c9": {
          "model_module": "@jupyter-widgets/base",
          "model_module_version": "1.2.0",
          "model_name": "LayoutModel",
          "state": {
            "_model_module": "@jupyter-widgets/base",
            "_model_module_version": "1.2.0",
            "_model_name": "LayoutModel",
            "_view_count": null,
            "_view_module": "@jupyter-widgets/base",
            "_view_module_version": "1.2.0",
            "_view_name": "LayoutView",
            "align_content": null,
            "align_items": null,
            "align_self": null,
            "border": null,
            "bottom": null,
            "display": null,
            "flex": null,
            "flex_flow": null,
            "grid_area": null,
            "grid_auto_columns": null,
            "grid_auto_flow": null,
            "grid_auto_rows": null,
            "grid_column": null,
            "grid_gap": null,
            "grid_row": null,
            "grid_template_areas": null,
            "grid_template_columns": null,
            "grid_template_rows": null,
            "height": null,
            "justify_content": null,
            "justify_items": null,
            "left": null,
            "margin": null,
            "max_height": null,
            "max_width": null,
            "min_height": null,
            "min_width": null,
            "object_fit": null,
            "object_position": null,
            "order": null,
            "overflow": null,
            "overflow_x": null,
            "overflow_y": null,
            "padding": null,
            "right": null,
            "top": null,
            "visibility": null,
            "width": null
          }
        },
        "94c7d51a65994c0d896bc076bdd82785": {
          "model_module": "@jupyter-widgets/controls",
          "model_module_version": "1.5.0",
          "model_name": "DescriptionStyleModel",
          "state": {
            "_model_module": "@jupyter-widgets/controls",
            "_model_module_version": "1.5.0",
            "_model_name": "DescriptionStyleModel",
            "_view_count": null,
            "_view_module": "@jupyter-widgets/base",
            "_view_module_version": "1.2.0",
            "_view_name": "StyleView",
            "description_width": ""
          }
        },
        "b8816f0697524cfd92594700d32e2081": {
          "model_module": "@jupyter-widgets/base",
          "model_module_version": "1.2.0",
          "model_name": "LayoutModel",
          "state": {
            "_model_module": "@jupyter-widgets/base",
            "_model_module_version": "1.2.0",
            "_model_name": "LayoutModel",
            "_view_count": null,
            "_view_module": "@jupyter-widgets/base",
            "_view_module_version": "1.2.0",
            "_view_name": "LayoutView",
            "align_content": null,
            "align_items": null,
            "align_self": null,
            "border": null,
            "bottom": null,
            "display": null,
            "flex": null,
            "flex_flow": null,
            "grid_area": null,
            "grid_auto_columns": null,
            "grid_auto_flow": null,
            "grid_auto_rows": null,
            "grid_column": null,
            "grid_gap": null,
            "grid_row": null,
            "grid_template_areas": null,
            "grid_template_columns": null,
            "grid_template_rows": null,
            "height": null,
            "justify_content": null,
            "justify_items": null,
            "left": null,
            "margin": null,
            "max_height": null,
            "max_width": null,
            "min_height": null,
            "min_width": null,
            "object_fit": null,
            "object_position": null,
            "order": null,
            "overflow": null,
            "overflow_x": null,
            "overflow_y": null,
            "padding": null,
            "right": null,
            "top": null,
            "visibility": null,
            "width": null
          }
        },
        "e441b10e970d490dbaf66e47ef04727d": {
          "model_module": "@jupyter-widgets/base",
          "model_module_version": "1.2.0",
          "model_name": "LayoutModel",
          "state": {
            "_model_module": "@jupyter-widgets/base",
            "_model_module_version": "1.2.0",
            "_model_name": "LayoutModel",
            "_view_count": null,
            "_view_module": "@jupyter-widgets/base",
            "_view_module_version": "1.2.0",
            "_view_name": "LayoutView",
            "align_content": null,
            "align_items": null,
            "align_self": null,
            "border": null,
            "bottom": null,
            "display": null,
            "flex": null,
            "flex_flow": null,
            "grid_area": null,
            "grid_auto_columns": null,
            "grid_auto_flow": null,
            "grid_auto_rows": null,
            "grid_column": null,
            "grid_gap": null,
            "grid_row": null,
            "grid_template_areas": null,
            "grid_template_columns": null,
            "grid_template_rows": null,
            "height": null,
            "justify_content": null,
            "justify_items": null,
            "left": null,
            "margin": null,
            "max_height": null,
            "max_width": null,
            "min_height": null,
            "min_width": null,
            "object_fit": null,
            "object_position": null,
            "order": null,
            "overflow": null,
            "overflow_x": null,
            "overflow_y": null,
            "padding": null,
            "right": null,
            "top": null,
            "visibility": null,
            "width": null
          }
        },
        "f2056f75918b41199546f43c0367f4e6": {
          "model_module": "@jupyter-widgets/base",
          "model_module_version": "1.2.0",
          "model_name": "LayoutModel",
          "state": {
            "_model_module": "@jupyter-widgets/base",
            "_model_module_version": "1.2.0",
            "_model_name": "LayoutModel",
            "_view_count": null,
            "_view_module": "@jupyter-widgets/base",
            "_view_module_version": "1.2.0",
            "_view_name": "LayoutView",
            "align_content": null,
            "align_items": null,
            "align_self": null,
            "border": null,
            "bottom": null,
            "display": null,
            "flex": null,
            "flex_flow": null,
            "grid_area": null,
            "grid_auto_columns": null,
            "grid_auto_flow": null,
            "grid_auto_rows": null,
            "grid_column": null,
            "grid_gap": null,
            "grid_row": null,
            "grid_template_areas": null,
            "grid_template_columns": null,
            "grid_template_rows": null,
            "height": null,
            "justify_content": null,
            "justify_items": null,
            "left": null,
            "margin": null,
            "max_height": null,
            "max_width": null,
            "min_height": null,
            "min_width": null,
            "object_fit": null,
            "object_position": null,
            "order": null,
            "overflow": null,
            "overflow_x": null,
            "overflow_y": null,
            "padding": null,
            "right": null,
            "top": null,
            "visibility": null,
            "width": null
          }
        },
        "fa941e2668b34b77a1b35a75b021f1ed": {
          "model_module": "@jupyter-widgets/controls",
          "model_module_version": "1.5.0",
          "model_name": "ProgressStyleModel",
          "state": {
            "_model_module": "@jupyter-widgets/controls",
            "_model_module_version": "1.5.0",
            "_model_name": "ProgressStyleModel",
            "_view_count": null,
            "_view_module": "@jupyter-widgets/base",
            "_view_module_version": "1.2.0",
            "_view_name": "StyleView",
            "bar_color": null,
            "description_width": ""
          }
        }
      }
    }
  },
  "nbformat": 4,
  "nbformat_minor": 0
}
